{
 "cells": [
  {
   "cell_type": "markdown",
   "id": "07afd34d-ad53-49a5-8d30-18ab88c0c9ed",
   "metadata": {},
   "source": [
    "### Which Machine LEarning Models Are Sensitive To Outliers?\n",
    "* Naivye Bayes Classifier ------ Not Sensitive To Outliers\n",
    "* SVM -------------------------- Not Sensitive To Outliers\n",
    "* Linear Regression------------- Sensitive To Outliers\n",
    "* Logistic Regression----------- Sensitive To Outliers\n",
    "* DecisionTree ----------------- Not Sensitive\n",
    "* Ensemble(RF,XGboost,GB)--- Not Sensitive\n",
    "* KNN--------------------------- Not Sensitive\n",
    "* Kmeans------------------------ Sensitive\n",
    "* Hierarichal--------------------- Sensitive\n",
    "* PCA--------------------------- Sensitive\n",
    "* Neural Networks------------- Sensitive"
   ]
  },
  {
   "cell_type": "code",
   "execution_count": 1,
   "id": "dd7d79ca-546a-4860-a881-4b7e5c5635e8",
   "metadata": {},
   "outputs": [],
   "source": [
    "import pandas as pd"
   ]
  },
  {
   "cell_type": "code",
   "execution_count": 2,
   "id": "88df32d6-88c4-42f8-b16c-3e60b5a211e4",
   "metadata": {},
   "outputs": [
    {
     "data": {
      "text/html": [
       "<div>\n",
       "<style scoped>\n",
       "    .dataframe tbody tr th:only-of-type {\n",
       "        vertical-align: middle;\n",
       "    }\n",
       "\n",
       "    .dataframe tbody tr th {\n",
       "        vertical-align: top;\n",
       "    }\n",
       "\n",
       "    .dataframe thead th {\n",
       "        text-align: right;\n",
       "    }\n",
       "</style>\n",
       "<table border=\"1\" class=\"dataframe\">\n",
       "  <thead>\n",
       "    <tr style=\"text-align: right;\">\n",
       "      <th></th>\n",
       "      <th>PassengerId</th>\n",
       "      <th>Pclass</th>\n",
       "      <th>Name</th>\n",
       "      <th>Sex</th>\n",
       "      <th>Age</th>\n",
       "      <th>SibSp</th>\n",
       "      <th>Parch</th>\n",
       "      <th>Ticket</th>\n",
       "      <th>Fare</th>\n",
       "      <th>Cabin</th>\n",
       "      <th>Embarked</th>\n",
       "      <th>Survived</th>\n",
       "    </tr>\n",
       "  </thead>\n",
       "  <tbody>\n",
       "    <tr>\n",
       "      <th>0</th>\n",
       "      <td>1</td>\n",
       "      <td>3</td>\n",
       "      <td>Braund, Mr. Owen Harris</td>\n",
       "      <td>male</td>\n",
       "      <td>22.0</td>\n",
       "      <td>1</td>\n",
       "      <td>0</td>\n",
       "      <td>A/5 21171</td>\n",
       "      <td>7.2500</td>\n",
       "      <td>NaN</td>\n",
       "      <td>S</td>\n",
       "      <td>0</td>\n",
       "    </tr>\n",
       "    <tr>\n",
       "      <th>1</th>\n",
       "      <td>2</td>\n",
       "      <td>1</td>\n",
       "      <td>Cumings, Mrs. John Bradley (Florence Briggs Th...</td>\n",
       "      <td>female</td>\n",
       "      <td>38.0</td>\n",
       "      <td>1</td>\n",
       "      <td>0</td>\n",
       "      <td>PC 17599</td>\n",
       "      <td>71.2833</td>\n",
       "      <td>C85</td>\n",
       "      <td>C</td>\n",
       "      <td>1</td>\n",
       "    </tr>\n",
       "    <tr>\n",
       "      <th>2</th>\n",
       "      <td>3</td>\n",
       "      <td>3</td>\n",
       "      <td>Heikkinen, Miss. Laina</td>\n",
       "      <td>female</td>\n",
       "      <td>26.0</td>\n",
       "      <td>0</td>\n",
       "      <td>0</td>\n",
       "      <td>STON/O2. 3101282</td>\n",
       "      <td>7.9250</td>\n",
       "      <td>NaN</td>\n",
       "      <td>S</td>\n",
       "      <td>1</td>\n",
       "    </tr>\n",
       "    <tr>\n",
       "      <th>3</th>\n",
       "      <td>4</td>\n",
       "      <td>1</td>\n",
       "      <td>Futrelle, Mrs. Jacques Heath (Lily May Peel)</td>\n",
       "      <td>female</td>\n",
       "      <td>35.0</td>\n",
       "      <td>1</td>\n",
       "      <td>0</td>\n",
       "      <td>113803</td>\n",
       "      <td>53.1000</td>\n",
       "      <td>C123</td>\n",
       "      <td>S</td>\n",
       "      <td>1</td>\n",
       "    </tr>\n",
       "    <tr>\n",
       "      <th>4</th>\n",
       "      <td>5</td>\n",
       "      <td>3</td>\n",
       "      <td>Allen, Mr. William Henry</td>\n",
       "      <td>male</td>\n",
       "      <td>35.0</td>\n",
       "      <td>0</td>\n",
       "      <td>0</td>\n",
       "      <td>373450</td>\n",
       "      <td>8.0500</td>\n",
       "      <td>NaN</td>\n",
       "      <td>S</td>\n",
       "      <td>0</td>\n",
       "    </tr>\n",
       "  </tbody>\n",
       "</table>\n",
       "</div>"
      ],
      "text/plain": [
       "   PassengerId  Pclass                                               Name  \\\n",
       "0            1       3                            Braund, Mr. Owen Harris   \n",
       "1            2       1  Cumings, Mrs. John Bradley (Florence Briggs Th...   \n",
       "2            3       3                             Heikkinen, Miss. Laina   \n",
       "3            4       1       Futrelle, Mrs. Jacques Heath (Lily May Peel)   \n",
       "4            5       3                           Allen, Mr. William Henry   \n",
       "\n",
       "      Sex   Age  SibSp  Parch            Ticket     Fare Cabin Embarked  \\\n",
       "0    male  22.0      1      0         A/5 21171   7.2500   NaN        S   \n",
       "1  female  38.0      1      0          PC 17599  71.2833   C85        C   \n",
       "2  female  26.0      0      0  STON/O2. 3101282   7.9250   NaN        S   \n",
       "3  female  35.0      1      0            113803  53.1000  C123        S   \n",
       "4    male  35.0      0      0            373450   8.0500   NaN        S   \n",
       "\n",
       "   Survived  \n",
       "0         0  \n",
       "1         1  \n",
       "2         1  \n",
       "3         1  \n",
       "4         0  "
      ]
     },
     "execution_count": 2,
     "metadata": {},
     "output_type": "execute_result"
    }
   ],
   "source": [
    "df = pd.read_csv('titanic.csv')\n",
    "df.head()"
   ]
  },
  {
   "cell_type": "code",
   "execution_count": 3,
   "id": "a18268dd-cedd-4b53-99aa-df87f9850370",
   "metadata": {},
   "outputs": [
    {
     "data": {
      "text/plain": [
       "177"
      ]
     },
     "execution_count": 3,
     "metadata": {},
     "output_type": "execute_result"
    }
   ],
   "source": [
    "df.Age.isnull().sum()"
   ]
  },
  {
   "cell_type": "code",
   "execution_count": 4,
   "id": "fc97623f-466c-4e8a-9ab8-adca1edf8ab0",
   "metadata": {},
   "outputs": [],
   "source": [
    "df.Age = df.Age.dropna()"
   ]
  },
  {
   "cell_type": "code",
   "execution_count": 5,
   "id": "a7761582-199e-4368-b77e-cd832cd99f03",
   "metadata": {},
   "outputs": [
    {
     "data": {
      "text/plain": [
       "<AxesSubplot:>"
      ]
     },
     "execution_count": 5,
     "metadata": {},
     "output_type": "execute_result"
    },
    {
     "data": {
      "image/png": "[encoded data removed]",
      "text/plain": [
       "<Figure size 432x288 with 1 Axes>"
      ]
     },
     "metadata": {
      "needs_background": "light"
     },
     "output_type": "display_data"
    }
   ],
   "source": [
    "df.Age.hist(bins=20)"
   ]
  },
  {
   "cell_type": "code",
   "execution_count": 6,
   "id": "dd564993-93a8-45d2-9278-6d20b0df8aac",
   "metadata": {},
   "outputs": [
    {
     "data": {
      "text/plain": [
       "<AxesSubplot:>"
      ]
     },
     "execution_count": 6,
     "metadata": {},
     "output_type": "execute_result"
    },
    {
     "data": {
      "image/png": "[encoded data removed]",
      "text/plain": [
       "<Figure size 432x288 with 1 Axes>"
      ]
     },
     "metadata": {
      "needs_background": "light"
     },
     "output_type": "display_data"
    }
   ],
   "source": [
    "df.Fare.hist(bins=20)"
   ]
  },
  {
   "cell_type": "code",
   "execution_count": 7,
   "id": "c3c5e2b8-2e10-4850-be3f-3fdcfec3f2e2",
   "metadata": {},
   "outputs": [
    {
     "data": {
      "text/plain": [
       "count    714.000000\n",
       "mean      29.699118\n",
       "std       14.526497\n",
       "min        0.420000\n",
       "25%       20.125000\n",
       "50%       28.000000\n",
       "75%       38.000000\n",
       "max       80.000000\n",
       "Name: Age, dtype: float64"
      ]
     },
     "execution_count": 7,
     "metadata": {},
     "output_type": "execute_result"
    }
   ],
   "source": [
    "df.Age.describe()"
   ]
  },
  {
   "cell_type": "markdown",
   "id": "bf372c84-5620-4e5e-a8ca-2f5cfa49fa90",
   "metadata": {},
   "source": [
    "## Gaussian Distributed"
   ]
  },
  {
   "cell_type": "code",
   "execution_count": 8,
   "id": "c0ffee09-9e8d-47b9-b8b4-9c286ed7eab2",
   "metadata": {},
   "outputs": [
    {
     "data": {
      "text/plain": [
       "Text(0, 0.5, 'No of passenger')"
      ]
     },
     "execution_count": 8,
     "metadata": {},
     "output_type": "execute_result"
    },
    {
     "data": {
      "image/png": "[encoded data removed]",
      "text/plain": [
       "<Figure size 432x288 with 1 Axes>"
      ]
     },
     "metadata": {
      "needs_background": "light"
     },
     "output_type": "display_data"
    }
   ],
   "source": [
    "figure=df.Age.hist(bins=20)\n",
    "figure.set_title('Age')\n",
    "figure.set_xlabel('Age')\n",
    "figure.set_ylabel('No of passenger')"
   ]
  },
  {
   "cell_type": "code",
   "execution_count": 9,
   "id": "28320a59-cf13-4116-984a-c5f2ba815196",
   "metadata": {},
   "outputs": [
    {
     "name": "stderr",
     "output_type": "stream",
     "text": [
      "c:\\users\\sathi\\appdata\\local\\programs\\python\\python39\\lib\\site-packages\\seaborn\\_decorators.py:36: FutureWarning: Pass the following variable as a keyword arg: x. From version 0.12, the only valid positional argument will be `data`, and passing other arguments without an explicit keyword will result in an error or misinterpretation.\n",
      "  warnings.warn(\n"
     ]
    },
    {
     "data": {
      "text/plain": [
       "<AxesSubplot:xlabel='Age'>"
      ]
     },
     "execution_count": 9,
     "metadata": {},
     "output_type": "execute_result"
    },
    {
     "data": {
      "image/png": "[encoded data removed]",
      "text/plain": [
       "<Figure size 432x288 with 1 Axes>"
      ]
     },
     "metadata": {
      "needs_background": "light"
     },
     "output_type": "display_data"
    }
   ],
   "source": [
    "import seaborn as sns\n",
    "sns.boxplot(df['Age'])"
   ]
  },
  {
   "cell_type": "markdown",
   "id": "c72636ed-5bcc-48ff-92e6-32570a34c93e",
   "metadata": {},
   "source": [
    "### If the data is normally distributed use this method:"
   ]
  },
  {
   "cell_type": "code",
   "execution_count": 10,
   "id": "6fcd79a2-830b-48ca-ad4f-98c11a72782e",
   "metadata": {},
   "outputs": [
    {
     "name": "stdout",
     "output_type": "stream",
     "text": [
      "Upper Boundaary: 73.27860964406094\n",
      "Lower Boundaary: -13.880374349943303\n",
      "Mean of Age: 29.69911764705882\n"
     ]
    }
   ],
   "source": [
    "Lower_boundaary = df.Age.mean() - 3 * df.Age.std()\n",
    "Upper_boundaary = df.Age.mean() + 3 * df.Age.std()\n",
    "print(f\"Upper Boundaary: {Upper_boundaary}\")\n",
    "print(f\"Lower Boundaary: {Lower_boundaary}\")\n",
    "print(f\"Mean of Age: {df.Age.mean()}\")"
   ]
  },
  {
   "cell_type": "markdown",
   "id": "7e193f39-288d-4ceb-b8f1-08e20df82f21",
   "metadata": {},
   "source": [
    "#### Replace outliers with upper boundary limit"
   ]
  },
  {
   "cell_type": "code",
   "execution_count": 11,
   "id": "140cd6f2-7fbb-4045-a5ae-7dbb5f5a0a8f",
   "metadata": {},
   "outputs": [],
   "source": [
    "df.loc[df['Age']>=73, 'Age']=73"
   ]
  },
  {
   "cell_type": "code",
   "execution_count": 12,
   "id": "61c769cb-d164-4943-b019-5b427b8d5238",
   "metadata": {},
   "outputs": [
    {
     "data": {
      "text/plain": [
       "<AxesSubplot:>"
      ]
     },
     "execution_count": 12,
     "metadata": {},
     "output_type": "execute_result"
    },
    {
     "data": {
      "image/png": "[encoded data removed]",
      "text/plain": [
       "<Figure size 432x288 with 1 Axes>"
      ]
     },
     "metadata": {
      "needs_background": "light"
     },
     "output_type": "display_data"
    }
   ],
   "source": [
    "df.Age.hist(bins=50)"
   ]
  },
  {
   "cell_type": "markdown",
   "id": "c4e7a5c9-979a-4f53-8bcf-d833005f7230",
   "metadata": {},
   "source": [
    "## Skewed Distribution:"
   ]
  },
  {
   "cell_type": "code",
   "execution_count": 17,
   "id": "6b558e53-7bd5-436f-9e4b-223ee3e857e8",
   "metadata": {},
   "outputs": [
    {
     "name": "stderr",
     "output_type": "stream",
     "text": [
      "c:\\users\\sathi\\appdata\\local\\programs\\python\\python39\\lib\\site-packages\\seaborn\\distributions.py:2557: FutureWarning: `distplot` is a deprecated function and will be removed in a future version. Please adapt your code to use either `displot` (a figure-level function with similar flexibility) or `histplot` (an axes-level function for histograms).\n",
      "  warnings.warn(msg, FutureWarning)\n"
     ]
    },
    {
     "data": {
      "text/plain": [
       "<AxesSubplot:xlabel='Fare', ylabel='Density'>"
      ]
     },
     "execution_count": 17,
     "metadata": {},
     "output_type": "execute_result"
    },
    {
     "data": {
      "image/png": "[encoded data removed]",
      "text/plain": [
       "<Figure size 432x288 with 1 Axes>"
      ]
     },
     "metadata": {
      "needs_background": "light"
     },
     "output_type": "display_data"
    }
   ],
   "source": [
    "sns.distplot(df.Fare)"
   ]
  },
  {
   "cell_type": "code",
   "execution_count": 20,
   "id": "06d11d77-4f05-4337-b13a-c2c708269e26",
   "metadata": {},
   "outputs": [
    {
     "name": "stderr",
     "output_type": "stream",
     "text": [
      "c:\\users\\sathi\\appdata\\local\\programs\\python\\python39\\lib\\site-packages\\seaborn\\_decorators.py:36: FutureWarning: Pass the following variable as a keyword arg: x. From version 0.12, the only valid positional argument will be `data`, and passing other arguments without an explicit keyword will result in an error or misinterpretation.\n",
      "  warnings.warn(\n"
     ]
    },
    {
     "data": {
      "text/plain": [
       "<AxesSubplot:xlabel='Fare'>"
      ]
     },
     "execution_count": 20,
     "metadata": {},
     "output_type": "execute_result"
    },
    {
     "data": {
      "image/png": "[encoded data removed]",
      "text/plain": [
       "<Figure size 432x288 with 1 Axes>"
      ]
     },
     "metadata": {
      "needs_background": "light"
     },
     "output_type": "display_data"
    }
   ],
   "source": [
    "sns.boxplot(df.Fare)"
   ]
  },
  {
   "cell_type": "code",
   "execution_count": 22,
   "id": "72b7652d-7706-4e65-8b10-9f31e536b7aa",
   "metadata": {},
   "outputs": [
    {
     "data": {
      "text/plain": [
       "count    891.000000\n",
       "mean      32.204208\n",
       "std       49.693429\n",
       "min        0.000000\n",
       "25%        7.910400\n",
       "50%       14.454200\n",
       "75%       31.000000\n",
       "max      512.329200\n",
       "Name: Fare, dtype: float64"
      ]
     },
     "execution_count": 22,
     "metadata": {},
     "output_type": "execute_result"
    }
   ],
   "source": [
    "df.Fare.describe()"
   ]
  },
  {
   "cell_type": "markdown",
   "id": "5315ba94-f1c4-42f8-9dbc-4dd3ae4693a6",
   "metadata": {},
   "source": [
    "### If the data is skewed distribution use this method"
   ]
  },
  {
   "cell_type": "code",
   "execution_count": 23,
   "id": "ffe1de02-f3cb-4d12-8dcf-666c1a64ed15",
   "metadata": {},
   "outputs": [
    {
     "name": "stdout",
     "output_type": "stream",
     "text": [
      "InterQuartile Range : 23.0896\n"
     ]
    }
   ],
   "source": [
    "# Find IQR value\n",
    "IQR = df.Fare.quantile(0.75)-df.Fare.quantile(0.25)\n",
    "print(f\"InterQuartile Range : {IQR}\")"
   ]
  },
  {
   "cell_type": "code",
   "execution_count": 25,
   "id": "d45542d2-2bd5-4ca6-86a0-677c71f0f23a",
   "metadata": {},
   "outputs": [
    {
     "name": "stdout",
     "output_type": "stream",
     "text": [
      "Upper Boundaary: 65.6344\n",
      "Lower Boundaary: -26.724\n"
     ]
    }
   ],
   "source": [
    "# Apply IQR value in the Formula\n",
    "Lower_boundaary = df.Fare.quantile(0.25) - (1.5*IQR)\n",
    "Upper_boundaary = df.Fare.quantile(0.75) + (1.5*IQR)\n",
    "print(f\"Upper Boundaary: {Upper_boundaary}\")\n",
    "print(f\"Lower Boundaary: {Lower_boundaary}\")"
   ]
  },
  {
   "cell_type": "markdown",
   "id": "c5ad47ed-fb97-4a59-b827-4fa8f2c10312",
   "metadata": {},
   "source": [
    "#### Find Extreme Outlier\n",
    "     Instead 1.5 value use 3 to find the extreme outliers"
   ]
  },
  {
   "cell_type": "code",
   "execution_count": 26,
   "id": "79f88788-a648-4b41-a455-4c0b1037305a",
   "metadata": {},
   "outputs": [
    {
     "name": "stdout",
     "output_type": "stream",
     "text": [
      "Upper Boundaary: 100.2688\n",
      "Lower Boundaary: -61.358399999999996\n"
     ]
    }
   ],
   "source": [
    "Lower_boundaary = df.Fare.quantile(0.25) - (3*IQR)\n",
    "Upper_boundaary = df.Fare.quantile(0.75) + (3*IQR)\n",
    "print(f\"Upper Boundaary: {Upper_boundaary}\")\n",
    "print(f\"Lower Boundaary: {Lower_boundaary}\")"
   ]
  },
  {
   "cell_type": "markdown",
   "id": "fdfb2473-df6c-40f1-bf72-4dfdb588a997",
   "metadata": {},
   "source": [
    "#### Replace Outliers with Upper Boundary value"
   ]
  },
  {
   "cell_type": "code",
   "execution_count": 27,
   "id": "aa21a8ea-e6b2-4324-9c09-3891b8334431",
   "metadata": {},
   "outputs": [],
   "source": [
    "df.loc[df['Fare']>=100, 'Fare']=100"
   ]
  },
  {
   "cell_type": "code",
   "execution_count": 30,
   "id": "ca6258ae-b61b-41ca-94d7-d3e2a9df7d68",
   "metadata": {},
   "outputs": [
    {
     "data": {
      "text/plain": [
       "<AxesSubplot:>"
      ]
     },
     "execution_count": 30,
     "metadata": {},
     "output_type": "execute_result"
    },
    {
     "data": {
      "image/png": "[encoded data removed]",
      "text/plain": [
       "<Figure size 432x288 with 1 Axes>"
      ]
     },
     "metadata": {
      "needs_background": "light"
     },
     "output_type": "display_data"
    }
   ],
   "source": [
    "df.Fare.hist(bins=20)"
   ]
  },
  {
   "cell_type": "markdown",
   "id": "1088a3b8-4578-48fe-86e3-477fbc4130dc",
   "metadata": {},
   "source": [
    "#### Splitting dataset for train_test_split"
   ]
  },
  {
   "cell_type": "code",
   "execution_count": 43,
   "id": "c15bf63c-8fb9-4d6d-a8ec-b51fffa5bd66",
   "metadata": {},
   "outputs": [],
   "source": [
    "from sklearn.model_selection import train_test_split\n",
    "X_train, X_test, y_train, y_test = train_test_split(df[['Age', 'Fare']].fillna(0), df['Survived'], test_size=0.2, random_state=0)"
   ]
  },
  {
   "cell_type": "markdown",
   "id": "2a6351dc-86a4-4ef0-947b-9bee4f0dae08",
   "metadata": {},
   "source": [
    "#### Using LogisticRegressor"
   ]
  },
  {
   "cell_type": "code",
   "execution_count": 44,
   "id": "aa739b3b-5e00-443a-97e7-57093468e4fd",
   "metadata": {},
   "outputs": [],
   "source": [
    "from sklearn.linear_model import LogisticRegression\n",
    "classifier = LogisticRegression()\n",
    "classifier.fit(X_train, y_train)\n",
    "y_pred = classifier.predict(X_test)\n",
    "y_pred_prob = classifier.predict_proba(X_test)"
   ]
  },
  {
   "cell_type": "code",
   "execution_count": 46,
   "id": "374c7b57-dd48-4c12-a057-e0142cb89d11",
   "metadata": {},
   "outputs": [
    {
     "name": "stdout",
     "output_type": "stream",
     "text": [
      "Accuracy Score : 0.7206703910614525\n",
      "Roc Accuracy Score : 0.7490777338603425\n"
     ]
    }
   ],
   "source": [
    "from sklearn.metrics import accuracy_score, roc_auc_score\n",
    "print(f'Accuracy Score : {accuracy_score(y_test, y_pred)}')\n",
    "print(f'Roc Accuracy Score : {roc_auc_score(y_test, y_pred_prob[:,1])}')\n"
   ]
  },
  {
   "cell_type": "markdown",
   "id": "f530a1fc-adc6-4da9-8b56-4a326708b6ee",
   "metadata": {},
   "source": [
    "#### Using Ensemble Techniques"
   ]
  },
  {
   "cell_type": "code",
   "execution_count": 51,
   "id": "a6001bc1-b81b-4819-aaa9-c122d6412c2a",
   "metadata": {},
   "outputs": [],
   "source": [
    "from sklearn.ensemble import RandomForestClassifier\n",
    "RFC = RandomForestClassifier()\n",
    "RFC.fit(X_train, y_train)\n",
    "y_pred = RFC.predict(X_test)\n",
    "y_pred_prob = RFC.predict_proba(X_test)"
   ]
  },
  {
   "cell_type": "code",
   "execution_count": 53,
   "id": "66adc92f-1ef4-4f28-a360-3244d5bdf31e",
   "metadata": {},
   "outputs": [
    {
     "name": "stdout",
     "output_type": "stream",
     "text": [
      "Accuracy Score : 0.7262569832402235\n",
      "Roc Accuracy Score : 0.7403820816864295\n"
     ]
    }
   ],
   "source": [
    "print(f'Accuracy Score : {accuracy_score(y_test, y_pred)}')\n",
    "print(f'Roc Accuracy Score : {roc_auc_score(y_test, y_pred_prob[:,1])}')"
   ]
  },
  {
   "cell_type": "code",
   "execution_count": null,
   "id": "17f3ccb6-1812-4a4f-9a58-611f24dbff6d",
   "metadata": {},
   "outputs": [],
   "source": []
  }
 ],
 "metadata": {
  "kernelspec": {
   "display_name": "Python 3",
   "language": "python",
   "name": "python3"
  },
  "language_info": {
   "codemirror_mode": {
    "name": "ipython",
    "version": 3
   },
   "file_extension": ".py",
   "mimetype": "text/x-python",
   "name": "python",
   "nbconvert_exporter": "python",
   "pygments_lexer": "ipython3",
   "version": "3.9.5"
  }
 },
 "nbformat": 4,
 "nbformat_minor": 5
}
