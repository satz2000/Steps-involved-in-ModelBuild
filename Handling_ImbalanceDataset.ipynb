{
 "cells": [
  {
   "cell_type": "code",
   "execution_count": 1,
   "id": "6f61cf28-047c-4feb-8120-38f591ef0ac1",
   "metadata": {},
   "outputs": [],
   "source": [
    "import numpy as np\n",
    "import pandas as pd\n",
    "import warnings\n",
    "warnings.filterwarnings('ignore')"
   ]
  },
  {
   "cell_type": "code",
   "execution_count": 2,
   "id": "b341f03d-60cf-4a17-85ac-f9b25ca54cf9",
   "metadata": {},
   "outputs": [
    {
     "data": {
      "text/html": [
       "<div>\n",
       "<style scoped>\n",
       "    .dataframe tbody tr th:only-of-type {\n",
       "        vertical-align: middle;\n",
       "    }\n",
       "\n",
       "    .dataframe tbody tr th {\n",
       "        vertical-align: top;\n",
       "    }\n",
       "\n",
       "    .dataframe thead th {\n",
       "        text-align: right;\n",
       "    }\n",
       "</style>\n",
       "<table border=\"1\" class=\"dataframe\">\n",
       "  <thead>\n",
       "    <tr style=\"text-align: right;\">\n",
       "      <th></th>\n",
       "      <th>Time</th>\n",
       "      <th>V1</th>\n",
       "      <th>V2</th>\n",
       "      <th>V3</th>\n",
       "      <th>V4</th>\n",
       "      <th>V5</th>\n",
       "      <th>V6</th>\n",
       "      <th>V7</th>\n",
       "      <th>V8</th>\n",
       "      <th>V9</th>\n",
       "      <th>...</th>\n",
       "      <th>V21</th>\n",
       "      <th>V22</th>\n",
       "      <th>V23</th>\n",
       "      <th>V24</th>\n",
       "      <th>V25</th>\n",
       "      <th>V26</th>\n",
       "      <th>V27</th>\n",
       "      <th>V28</th>\n",
       "      <th>Amount</th>\n",
       "      <th>Class</th>\n",
       "    </tr>\n",
       "  </thead>\n",
       "  <tbody>\n",
       "    <tr>\n",
       "      <th>0</th>\n",
       "      <td>0.0</td>\n",
       "      <td>-1.359807</td>\n",
       "      <td>-0.072781</td>\n",
       "      <td>2.536347</td>\n",
       "      <td>1.378155</td>\n",
       "      <td>-0.338321</td>\n",
       "      <td>0.462388</td>\n",
       "      <td>0.239599</td>\n",
       "      <td>0.098698</td>\n",
       "      <td>0.363787</td>\n",
       "      <td>...</td>\n",
       "      <td>-0.018307</td>\n",
       "      <td>0.277838</td>\n",
       "      <td>-0.110474</td>\n",
       "      <td>0.066928</td>\n",
       "      <td>0.128539</td>\n",
       "      <td>-0.189115</td>\n",
       "      <td>0.133558</td>\n",
       "      <td>-0.021053</td>\n",
       "      <td>149.62</td>\n",
       "      <td>0</td>\n",
       "    </tr>\n",
       "    <tr>\n",
       "      <th>1</th>\n",
       "      <td>0.0</td>\n",
       "      <td>1.191857</td>\n",
       "      <td>0.266151</td>\n",
       "      <td>0.166480</td>\n",
       "      <td>0.448154</td>\n",
       "      <td>0.060018</td>\n",
       "      <td>-0.082361</td>\n",
       "      <td>-0.078803</td>\n",
       "      <td>0.085102</td>\n",
       "      <td>-0.255425</td>\n",
       "      <td>...</td>\n",
       "      <td>-0.225775</td>\n",
       "      <td>-0.638672</td>\n",
       "      <td>0.101288</td>\n",
       "      <td>-0.339846</td>\n",
       "      <td>0.167170</td>\n",
       "      <td>0.125895</td>\n",
       "      <td>-0.008983</td>\n",
       "      <td>0.014724</td>\n",
       "      <td>2.69</td>\n",
       "      <td>0</td>\n",
       "    </tr>\n",
       "    <tr>\n",
       "      <th>2</th>\n",
       "      <td>1.0</td>\n",
       "      <td>-1.358354</td>\n",
       "      <td>-1.340163</td>\n",
       "      <td>1.773209</td>\n",
       "      <td>0.379780</td>\n",
       "      <td>-0.503198</td>\n",
       "      <td>1.800499</td>\n",
       "      <td>0.791461</td>\n",
       "      <td>0.247676</td>\n",
       "      <td>-1.514654</td>\n",
       "      <td>...</td>\n",
       "      <td>0.247998</td>\n",
       "      <td>0.771679</td>\n",
       "      <td>0.909412</td>\n",
       "      <td>-0.689281</td>\n",
       "      <td>-0.327642</td>\n",
       "      <td>-0.139097</td>\n",
       "      <td>-0.055353</td>\n",
       "      <td>-0.059752</td>\n",
       "      <td>378.66</td>\n",
       "      <td>0</td>\n",
       "    </tr>\n",
       "    <tr>\n",
       "      <th>3</th>\n",
       "      <td>1.0</td>\n",
       "      <td>-0.966272</td>\n",
       "      <td>-0.185226</td>\n",
       "      <td>1.792993</td>\n",
       "      <td>-0.863291</td>\n",
       "      <td>-0.010309</td>\n",
       "      <td>1.247203</td>\n",
       "      <td>0.237609</td>\n",
       "      <td>0.377436</td>\n",
       "      <td>-1.387024</td>\n",
       "      <td>...</td>\n",
       "      <td>-0.108300</td>\n",
       "      <td>0.005274</td>\n",
       "      <td>-0.190321</td>\n",
       "      <td>-1.175575</td>\n",
       "      <td>0.647376</td>\n",
       "      <td>-0.221929</td>\n",
       "      <td>0.062723</td>\n",
       "      <td>0.061458</td>\n",
       "      <td>123.50</td>\n",
       "      <td>0</td>\n",
       "    </tr>\n",
       "    <tr>\n",
       "      <th>4</th>\n",
       "      <td>2.0</td>\n",
       "      <td>-1.158233</td>\n",
       "      <td>0.877737</td>\n",
       "      <td>1.548718</td>\n",
       "      <td>0.403034</td>\n",
       "      <td>-0.407193</td>\n",
       "      <td>0.095921</td>\n",
       "      <td>0.592941</td>\n",
       "      <td>-0.270533</td>\n",
       "      <td>0.817739</td>\n",
       "      <td>...</td>\n",
       "      <td>-0.009431</td>\n",
       "      <td>0.798278</td>\n",
       "      <td>-0.137458</td>\n",
       "      <td>0.141267</td>\n",
       "      <td>-0.206010</td>\n",
       "      <td>0.502292</td>\n",
       "      <td>0.219422</td>\n",
       "      <td>0.215153</td>\n",
       "      <td>69.99</td>\n",
       "      <td>0</td>\n",
       "    </tr>\n",
       "  </tbody>\n",
       "</table>\n",
       "<p>5 rows × 31 columns</p>\n",
       "</div>"
      ],
      "text/plain": [
       "   Time        V1        V2        V3        V4        V5        V6        V7  \\\n",
       "0   0.0 -1.359807 -0.072781  2.536347  1.378155 -0.338321  0.462388  0.239599   \n",
       "1   0.0  1.191857  0.266151  0.166480  0.448154  0.060018 -0.082361 -0.078803   \n",
       "2   1.0 -1.358354 -1.340163  1.773209  0.379780 -0.503198  1.800499  0.791461   \n",
       "3   1.0 -0.966272 -0.185226  1.792993 -0.863291 -0.010309  1.247203  0.237609   \n",
       "4   2.0 -1.158233  0.877737  1.548718  0.403034 -0.407193  0.095921  0.592941   \n",
       "\n",
       "         V8        V9  ...       V21       V22       V23       V24       V25  \\\n",
       "0  0.098698  0.363787  ... -0.018307  0.277838 -0.110474  0.066928  0.128539   \n",
       "1  0.085102 -0.255425  ... -0.225775 -0.638672  0.101288 -0.339846  0.167170   \n",
       "2  0.247676 -1.514654  ...  0.247998  0.771679  0.909412 -0.689281 -0.327642   \n",
       "3  0.377436 -1.387024  ... -0.108300  0.005274 -0.190321 -1.175575  0.647376   \n",
       "4 -0.270533  0.817739  ... -0.009431  0.798278 -0.137458  0.141267 -0.206010   \n",
       "\n",
       "        V26       V27       V28  Amount  Class  \n",
       "0 -0.189115  0.133558 -0.021053  149.62      0  \n",
       "1  0.125895 -0.008983  0.014724    2.69      0  \n",
       "2 -0.139097 -0.055353 -0.059752  378.66      0  \n",
       "3 -0.221929  0.062723  0.061458  123.50      0  \n",
       "4  0.502292  0.219422  0.215153   69.99      0  \n",
       "\n",
       "[5 rows x 31 columns]"
      ]
     },
     "execution_count": 2,
     "metadata": {},
     "output_type": "execute_result"
    }
   ],
   "source": [
    "df = pd.read_csv('creditcard.csv')\n",
    "df.head()"
   ]
  },
  {
   "cell_type": "code",
   "execution_count": 3,
   "id": "6acc7b1b-f75a-47b0-bf96-4c20e745f8fe",
   "metadata": {},
   "outputs": [
    {
     "data": {
      "text/plain": [
       "0"
      ]
     },
     "execution_count": 3,
     "metadata": {},
     "output_type": "execute_result"
    }
   ],
   "source": [
    "df.isnull().sum().sum()"
   ]
  },
  {
   "cell_type": "code",
   "execution_count": 4,
   "id": "5e4e16d7-0935-4327-b004-9958661497b3",
   "metadata": {},
   "outputs": [
    {
     "data": {
      "text/plain": [
       "0    284315\n",
       "1       492\n",
       "Name: Class, dtype: int64"
      ]
     },
     "execution_count": 4,
     "metadata": {},
     "output_type": "execute_result"
    }
   ],
   "source": [
    "df.Class.value_counts()"
   ]
  },
  {
   "cell_type": "code",
   "execution_count": 5,
   "id": "993909b0-ab5f-4922-b78e-3e5b4d90f1a0",
   "metadata": {},
   "outputs": [],
   "source": [
    "# creating independent and dependent variable\n",
    "X = df.drop(['Class'], axis=1)\n",
    "y = df['Class']"
   ]
  },
  {
   "cell_type": "code",
   "execution_count": 6,
   "id": "bab7012a-6955-4f6e-962f-4b811d0ad98c",
   "metadata": {},
   "outputs": [],
   "source": [
    "from sklearn.model_selection import train_test_split\n",
    "X_train, X_test, y_train, y_test = train_test_split(X, y,test_size=0.3, random_state=0)"
   ]
  },
  {
   "cell_type": "markdown",
   "id": "e996daba-0275-463c-9d45-6b95a364d83c",
   "metadata": {},
   "source": [
    "#### Cross Validation use KFold,  \n",
    "#### Hyperparameter tunning use GridsearchCV"
   ]
  },
  {
   "cell_type": "code",
   "execution_count": 7,
   "id": "112ddcc5-d124-4315-89ac-09a2f71f487c",
   "metadata": {},
   "outputs": [],
   "source": [
    "from sklearn.linear_model import LogisticRegression\n",
    "from sklearn.metrics import accuracy_score,confusion_matrix,classification_report\n",
    "from sklearn.model_selection import KFold\n",
    "from sklearn.model_selection import GridSearchCV"
   ]
  },
  {
   "cell_type": "code",
   "execution_count": 8,
   "id": "1a38ade0-76e0-4023-a6cb-62f7f70c5303",
   "metadata": {},
   "outputs": [],
   "source": [
    "lr = LogisticRegression()\n",
    "# to variable grid for hyperparameter \n",
    "grid={'C':10.0 **np.arange(-2,3),'penalty':['l1','l2']}\n",
    "# to variable cv for kfold\n",
    "cv=KFold(n_splits=5,random_state=None,shuffle=False)"
   ]
  },
  {
   "cell_type": "code",
   "execution_count": 9,
   "id": "06d43feb-bfc5-49b7-99aa-2246d94cfc7d",
   "metadata": {},
   "outputs": [],
   "source": [
    "lregression = GridSearchCV(lr, grid, cv=cv,n_jobs=-1,scoring='f1_macro')"
   ]
  },
  {
   "cell_type": "code",
   "execution_count": 10,
   "id": "666d4d07-80de-41b5-a74d-faeb7a17d308",
   "metadata": {},
   "outputs": [
    {
     "data": {
      "text/plain": [
       "GridSearchCV(cv=KFold(n_splits=5, random_state=None, shuffle=False),\n",
       "             estimator=LogisticRegression(), n_jobs=-1,\n",
       "             param_grid={'C': array([1.e-02, 1.e-01, 1.e+00, 1.e+01, 1.e+02]),\n",
       "                         'penalty': ['l1', 'l2']},\n",
       "             scoring='f1_macro')"
      ]
     },
     "execution_count": 10,
     "metadata": {},
     "output_type": "execute_result"
    }
   ],
   "source": [
    "lregression.fit(X_train, y_train)"
   ]
  },
  {
   "cell_type": "code",
   "execution_count": 11,
   "id": "5141f70d-da68-4205-8c5c-61bd8081303c",
   "metadata": {},
   "outputs": [],
   "source": [
    "y_pred = lregression.predict(X_test)"
   ]
  },
  {
   "cell_type": "code",
   "execution_count": 12,
   "id": "34afd1c2-1f31-461a-ab0d-5f74cf9d6dc9",
   "metadata": {},
   "outputs": [
    {
     "name": "stdout",
     "output_type": "stream",
     "text": [
      "[[85263    50]\n",
      " [   33    97]]\n",
      "0.9990285921608558\n",
      "              precision    recall  f1-score   support\n",
      "\n",
      "           0       1.00      1.00      1.00     85313\n",
      "           1       0.66      0.75      0.70       130\n",
      "\n",
      "    accuracy                           1.00     85443\n",
      "   macro avg       0.83      0.87      0.85     85443\n",
      "weighted avg       1.00      1.00      1.00     85443\n",
      "\n"
     ]
    }
   ],
   "source": [
    "print(confusion_matrix(y_pred, y_test))\n",
    "print(accuracy_score(y_pred,  y_test))\n",
    "print(classification_report(y_pred, y_test))"
   ]
  },
  {
   "cell_type": "markdown",
   "id": "fd396360-d105-4741-b05a-2e4a630bdd06",
   "metadata": {},
   "source": [
    "#### Ensemble techniques with class_weight parameter"
   ]
  },
  {
   "cell_type": "code",
   "execution_count": 13,
   "id": "88e32285-eef9-4c81-a1de-b911372ad6bc",
   "metadata": {},
   "outputs": [
    {
     "data": {
      "text/plain": [
       "RandomForestClassifier(class_weight={0: 1, 1: 100})"
      ]
     },
     "execution_count": 13,
     "metadata": {},
     "output_type": "execute_result"
    }
   ],
   "source": [
    "from sklearn.ensemble import RandomForestClassifier\n",
    "# basically class weight is balanced & balanced subsample,assign more importance for 1 bcoz its imbalance dataset\n",
    "Rfc = RandomForestClassifier(class_weight={0: 1, 1:100})  \n",
    "Rfc.fit(X_train, y_train)"
   ]
  },
  {
   "cell_type": "code",
   "execution_count": 14,
   "id": "20e1487d-7c38-4493-b055-18b5fca41145",
   "metadata": {},
   "outputs": [],
   "source": [
    "y_pred = Rfc.predict(X_test)"
   ]
  },
  {
   "cell_type": "code",
   "execution_count": 15,
   "id": "1a54036f-39be-4d1d-8548-6b5f651d170e",
   "metadata": {},
   "outputs": [
    {
     "name": "stdout",
     "output_type": "stream",
     "text": [
      "[[85291    36]\n",
      " [    5   111]]\n",
      "0.9995201479348805\n",
      "              precision    recall  f1-score   support\n",
      "\n",
      "           0       1.00      1.00      1.00     85327\n",
      "           1       0.76      0.96      0.84       116\n",
      "\n",
      "    accuracy                           1.00     85443\n",
      "   macro avg       0.88      0.98      0.92     85443\n",
      "weighted avg       1.00      1.00      1.00     85443\n",
      "\n"
     ]
    }
   ],
   "source": [
    "print(confusion_matrix(y_pred, y_test))\n",
    "print(accuracy_score(y_pred,  y_test))\n",
    "print(classification_report(y_pred, y_test))"
   ]
  },
  {
   "cell_type": "markdown",
   "id": "89d5a2e1-0212-4290-8ea2-9a5ff9583115",
   "metadata": {},
   "source": [
    "#### Without using any parameter, use it as defalt"
   ]
  },
  {
   "cell_type": "code",
   "execution_count": 16,
   "id": "80bd6c31-5c39-41fd-8683-2496d7950826",
   "metadata": {},
   "outputs": [
    {
     "data": {
      "text/plain": [
       "RandomForestClassifier()"
      ]
     },
     "execution_count": 16,
     "metadata": {},
     "output_type": "execute_result"
    }
   ],
   "source": [
    "from sklearn.ensemble import RandomForestClassifier\n",
    "Rfc = RandomForestClassifier()\n",
    "Rfc.fit(X_train, y_train)"
   ]
  },
  {
   "cell_type": "code",
   "execution_count": 17,
   "id": "8a0b3b38-d9df-4d39-aad2-d2b9a9401c09",
   "metadata": {},
   "outputs": [],
   "source": [
    "y_pred = Rfc.predict(X_test)"
   ]
  },
  {
   "cell_type": "code",
   "execution_count": 18,
   "id": "1f0d38c8-1810-4823-8cc4-9df78ff66faa",
   "metadata": {},
   "outputs": [
    {
     "name": "stdout",
     "output_type": "stream",
     "text": [
      "[[85290    35]\n",
      " [    6   112]]\n",
      "0.9995201479348805\n",
      "              precision    recall  f1-score   support\n",
      "\n",
      "           0       1.00      1.00      1.00     85325\n",
      "           1       0.76      0.95      0.85       118\n",
      "\n",
      "    accuracy                           1.00     85443\n",
      "   macro avg       0.88      0.97      0.92     85443\n",
      "weighted avg       1.00      1.00      1.00     85443\n",
      "\n"
     ]
    }
   ],
   "source": [
    "print(confusion_matrix(y_pred, y_test))\n",
    "print(accuracy_score(y_pred,  y_test))\n",
    "print(classification_report(y_pred, y_test))"
   ]
  },
  {
   "cell_type": "markdown",
   "id": "b5dc4207-3a42-4836-a26e-a4b43587325d",
   "metadata": {},
   "source": [
    "#### Under sampling method:\n",
    "     This technique samples down or reduces the samples of the class containing more data equivalent to the class containing the least samples. Suppose class A has 900 samples and class B has 100 samples, then the imbalance ratio is 9:1. Using the undersampling technique we keep class B as 100 samples and from class A we randomly select 100 samples out of 900. Then the ratio becomes 1:1 and we can say it’s balanced"
   ]
  },
  {
   "cell_type": "code",
   "execution_count": 19,
   "id": "df2cc0bc-2711-48c2-9c64-dce1ef6f651f",
   "metadata": {},
   "outputs": [
    {
     "data": {
      "text/plain": [
       "Counter({0: 199019, 1: 345})"
      ]
     },
     "execution_count": 19,
     "metadata": {},
     "output_type": "execute_result"
    }
   ],
   "source": [
    "from collections import Counter\n",
    "Counter(y_train)"
   ]
  },
  {
   "cell_type": "code",
   "execution_count": 20,
   "id": "05e5e249-2309-4e9b-8e0f-1de141812619",
   "metadata": {},
   "outputs": [],
   "source": [
    "from imblearn.under_sampling import NearMiss\n",
    "ns=NearMiss(0.8)"
   ]
  },
  {
   "cell_type": "code",
   "execution_count": 21,
   "id": "7e019f84-2e54-4f8d-8bae-e501e37e4c2b",
   "metadata": {},
   "outputs": [],
   "source": [
    "X_train, y_train= ns.fit_resample(X_train, y_train)"
   ]
  },
  {
   "cell_type": "code",
   "execution_count": 22,
   "id": "0b910ed8-8e3c-4f00-9d7b-fa7df98903b3",
   "metadata": {},
   "outputs": [
    {
     "data": {
      "text/plain": [
       "RandomForestClassifier()"
      ]
     },
     "execution_count": 22,
     "metadata": {},
     "output_type": "execute_result"
    }
   ],
   "source": [
    "from sklearn.ensemble import RandomForestClassifier\n",
    "Rfc = RandomForestClassifier()  \n",
    "Rfc.fit(X_train, y_train)"
   ]
  },
  {
   "cell_type": "code",
   "execution_count": 23,
   "id": "e9679fda-d7a0-467b-ad16-39a0a2d27477",
   "metadata": {},
   "outputs": [
    {
     "name": "stdout",
     "output_type": "stream",
     "text": [
      "[[61406     8]\n",
      " [23890   139]]\n",
      "0.7203047645798953\n",
      "              precision    recall  f1-score   support\n",
      "\n",
      "           0       0.72      1.00      0.84     61414\n",
      "           1       0.95      0.01      0.01     24029\n",
      "\n",
      "    accuracy                           0.72     85443\n",
      "   macro avg       0.83      0.50      0.42     85443\n",
      "weighted avg       0.78      0.72      0.60     85443\n",
      "\n"
     ]
    }
   ],
   "source": [
    "y_pred = Rfc.predict(X_test)\n",
    "print(confusion_matrix(y_pred, y_test))\n",
    "print(accuracy_score(y_pred,  y_test))\n",
    "print(classification_report(y_pred, y_test))"
   ]
  },
  {
   "cell_type": "markdown",
   "id": "5707f29c-2b70-4afc-8fe1-85b8dc1eb21b",
   "metadata": {},
   "source": [
    "#### Over sampling methods:\n",
    "     Oversampling is just the opposite of undersampling. Here the class containing less data is made equivalent to the class containing more data. This is done by adding more data to the least sample containing class. Let’s take the same example of undersampling, then, in this case, class A will remain 900 and class B will also be 900 (which was previously 100). Hence the ratio will be 1:1 and it’ll be balanced"
   ]
  },
  {
   "cell_type": "code",
   "execution_count": 24,
   "id": "361c0c06-1261-408c-a9c8-b3d69da321e1",
   "metadata": {},
   "outputs": [],
   "source": [
    "from imblearn.over_sampling import RandomOverSampler"
   ]
  },
  {
   "cell_type": "code",
   "execution_count": 25,
   "id": "652c8c94-43ca-4b0f-a963-745d3d24d21e",
   "metadata": {},
   "outputs": [],
   "source": [
    "OS = RandomOverSampler(1)"
   ]
  },
  {
   "cell_type": "code",
   "execution_count": 26,
   "id": "5bed83ed-28aa-49cb-9f5a-79667fed7636",
   "metadata": {},
   "outputs": [],
   "source": [
    "x_train_os, y_train_os = OS.fit_resample(X_train, y_train)"
   ]
  },
  {
   "cell_type": "code",
   "execution_count": 27,
   "id": "3e16508f-3561-4273-b698-5b6165fd8337",
   "metadata": {},
   "outputs": [
    {
     "data": {
      "text/plain": [
       "RandomForestClassifier()"
      ]
     },
     "execution_count": 27,
     "metadata": {},
     "output_type": "execute_result"
    }
   ],
   "source": [
    "from sklearn.ensemble import RandomForestClassifier\n",
    "Rfc = RandomForestClassifier()  \n",
    "Rfc.fit(x_train_os, y_train_os)"
   ]
  },
  {
   "cell_type": "code",
   "execution_count": 28,
   "id": "0addb511-c305-4b19-a58c-c5bf7223536d",
   "metadata": {},
   "outputs": [
    {
     "name": "stdout",
     "output_type": "stream",
     "text": [
      "[[63744     8]\n",
      " [21552   139]]\n",
      "0.7476680360006086\n",
      "              precision    recall  f1-score   support\n",
      "\n",
      "           0       0.75      1.00      0.86     63752\n",
      "           1       0.95      0.01      0.01     21691\n",
      "\n",
      "    accuracy                           0.75     85443\n",
      "   macro avg       0.85      0.50      0.43     85443\n",
      "weighted avg       0.80      0.75      0.64     85443\n",
      "\n"
     ]
    }
   ],
   "source": [
    "y_pred = Rfc.predict(X_test)\n",
    "print(confusion_matrix(y_pred, y_test))\n",
    "print(accuracy_score(y_pred,  y_test))\n",
    "print(classification_report(y_pred, y_test))"
   ]
  },
  {
   "cell_type": "markdown",
   "id": "a2680075-ac26-494e-af52-32dab4436ed7",
   "metadata": {},
   "source": [
    "#### SMOTETomek sampling technique:\n",
    "     SMOTETomek is somewhere upsampling and downsampling. SMOTETomek is a hybrid method which is a mixture of the above two methods, it uses an under-sampling method (Tomek) with an oversampling method (SMOTE)."
   ]
  },
  {
   "cell_type": "code",
   "execution_count": 29,
   "id": "733da9fe-9282-49a0-9ab5-0a770d93b546",
   "metadata": {},
   "outputs": [],
   "source": [
    "from imblearn.combine import SMOTETomek"
   ]
  },
  {
   "cell_type": "code",
   "execution_count": 30,
   "id": "ba2f8989-416e-4b3c-927d-5c7f392dfec2",
   "metadata": {},
   "outputs": [
    {
     "name": "stdout",
     "output_type": "stream",
     "text": [
      "The number of classes before fit Counter({0: 431, 1: 345})\n",
      "The number of classes after fit Counter({0: 430, 1: 365})\n"
     ]
    }
   ],
   "source": [
    "st=SMOTETomek(0.85)\n",
    "X_train_st,y_train_st=st.fit_resample(X_train, y_train)\n",
    "print(\"The number of classes before fit {}\".format(Counter(y_train)))\n",
    "print(\"The number of classes after fit {}\".format(Counter(y_train_st)))"
   ]
  },
  {
   "cell_type": "code",
   "execution_count": 31,
   "id": "db2d3ba8-afd0-4e3c-b46b-9a81d8ace95d",
   "metadata": {},
   "outputs": [
    {
     "data": {
      "text/plain": [
       "RandomForestClassifier()"
      ]
     },
     "execution_count": 31,
     "metadata": {},
     "output_type": "execute_result"
    }
   ],
   "source": [
    "from sklearn.ensemble import RandomForestClassifier\n",
    "Rfc = RandomForestClassifier()  \n",
    "Rfc.fit(X_train_st, y_train_st)"
   ]
  },
  {
   "cell_type": "code",
   "execution_count": 32,
   "id": "283a6dc3-f34f-4140-a27e-4a079d2dccd1",
   "metadata": {},
   "outputs": [
    {
     "name": "stdout",
     "output_type": "stream",
     "text": [
      "[[61441     9]\n",
      " [23855   138]]\n",
      "0.7207026906826773\n",
      "              precision    recall  f1-score   support\n",
      "\n",
      "           0       0.72      1.00      0.84     61450\n",
      "           1       0.94      0.01      0.01     23993\n",
      "\n",
      "    accuracy                           0.72     85443\n",
      "   macro avg       0.83      0.50      0.42     85443\n",
      "weighted avg       0.78      0.72      0.61     85443\n",
      "\n"
     ]
    }
   ],
   "source": [
    "y_pred = Rfc.predict(X_test)\n",
    "print(confusion_matrix(y_pred, y_test))\n",
    "print(accuracy_score(y_pred,  y_test))\n",
    "print(classification_report(y_pred, y_test))"
   ]
  },
  {
   "cell_type": "markdown",
   "id": "254b3827-7f36-4a8f-93f3-cd7dde8eb23a",
   "metadata": {},
   "source": [
    "#### EasyEnsembleClassifier Method:"
   ]
  },
  {
   "cell_type": "code",
   "execution_count": 33,
   "id": "6d3c36dc-411e-4b4d-a540-a2a7f17c4da5",
   "metadata": {},
   "outputs": [],
   "source": [
    "from imblearn.ensemble import EasyEnsembleClassifier"
   ]
  },
  {
   "cell_type": "code",
   "execution_count": 34,
   "id": "5e0de689-efe4-4876-a532-270128c2a206",
   "metadata": {},
   "outputs": [
    {
     "data": {
      "text/plain": [
       "EasyEnsembleClassifier()"
      ]
     },
     "execution_count": 34,
     "metadata": {},
     "output_type": "execute_result"
    }
   ],
   "source": [
    "easy=EasyEnsembleClassifier()\n",
    "easy.fit(X_train,y_train)"
   ]
  },
  {
   "cell_type": "code",
   "execution_count": 35,
   "id": "ff1214cf-0e9f-4fcf-bc2f-1b40e9c1ff7d",
   "metadata": {},
   "outputs": [
    {
     "name": "stdout",
     "output_type": "stream",
     "text": [
      "[[45001 40295]\n",
      " [    5   142]]\n",
      "0.5283405311143101\n",
      "              precision    recall  f1-score   support\n",
      "\n",
      "           0       1.00      0.53      0.69     85296\n",
      "           1       0.00      0.97      0.01       147\n",
      "\n",
      "    accuracy                           0.53     85443\n",
      "   macro avg       0.50      0.75      0.35     85443\n",
      "weighted avg       1.00      0.53      0.69     85443\n",
      "\n"
     ]
    }
   ],
   "source": [
    "y_pred=easy.predict(X_test)\n",
    "print(confusion_matrix(y_test,y_pred))\n",
    "print(accuracy_score(y_test,y_pred))\n",
    "print(classification_report(y_test,y_pred))"
   ]
  },
  {
   "cell_type": "markdown",
   "id": "00cd3e2d-7627-48ec-a05b-6c5aa9f56d02",
   "metadata": {},
   "source": [
    "#### BalancedRandomForestClassifier Method:"
   ]
  },
  {
   "cell_type": "code",
   "execution_count": 36,
   "id": "3adb7079-494e-427d-9e94-1f5fb8a2c721",
   "metadata": {},
   "outputs": [
    {
     "data": {
      "text/plain": [
       "BalancedRandomForestClassifier()"
      ]
     },
     "execution_count": 36,
     "metadata": {},
     "output_type": "execute_result"
    }
   ],
   "source": [
    "from imblearn.ensemble import BalancedRandomForestClassifier\n",
    "brf = BalancedRandomForestClassifier()\n",
    "brf.fit(X_train,y_train)"
   ]
  },
  {
   "cell_type": "code",
   "execution_count": 37,
   "id": "8c5e04b2-6585-4d13-9adc-49ec14757a46",
   "metadata": {},
   "outputs": [
    {
     "name": "stdout",
     "output_type": "stream",
     "text": [
      "[[62162 23134]\n",
      " [    9   138]]\n",
      "0.7291410648034362\n",
      "              precision    recall  f1-score   support\n",
      "\n",
      "           0       1.00      0.73      0.84     85296\n",
      "           1       0.01      0.94      0.01       147\n",
      "\n",
      "    accuracy                           0.73     85443\n",
      "   macro avg       0.50      0.83      0.43     85443\n",
      "weighted avg       1.00      0.73      0.84     85443\n",
      "\n"
     ]
    }
   ],
   "source": [
    "y_pred=brf.predict(X_test)\n",
    "print(confusion_matrix(y_test,y_pred))\n",
    "print(accuracy_score(y_test,y_pred))\n",
    "print(classification_report(y_test,y_pred))"
   ]
  },
  {
   "cell_type": "code",
   "execution_count": null,
   "id": "9574f448-59e9-4ec8-9444-d9a5d3cc6e57",
   "metadata": {},
   "outputs": [],
   "source": []
  }
 ],
 "metadata": {
  "kernelspec": {
   "display_name": "Python 3 (ipykernel)",
   "language": "python",
   "name": "python3"
  },
  "language_info": {
   "codemirror_mode": {
    "name": "ipython",
    "version": 3
   },
   "file_extension": ".py",
   "mimetype": "text/x-python",
   "name": "python",
   "nbconvert_exporter": "python",
   "pygments_lexer": "ipython3",
   "version": "3.9.7"
  }
 },
 "nbformat": 4,
 "nbformat_minor": 5
}
