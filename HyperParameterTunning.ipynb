{
 "cells": [
  {
   "cell_type": "markdown",
   "id": "b65d3b60-d864-4193-a705-1e93d3502767",
   "metadata": {},
   "source": [
    "### All Techniques Of Hyper Parameter Optimization\n",
    "   * GridSearchCV\n",
    "   * RandomizedSearchCV\n",
    "   * Bayesian Optimization -Automate Hyperparameter Tuning (Hyperopt)\n",
    "   * Sequential Model Based Optimization(Tuning a scikit-learn estimator with skopt)\n",
    "   * Optuna- Automate Hyperparameter Tuning\n",
    "   * Genetic Algorithms (TPOT Classifier)\n"
   ]
  },
  {
   "cell_type": "code",
   "execution_count": 1,
   "id": "d9a8b9fb-3ba0-4fce-ba3b-677abfbf9edf",
   "metadata": {},
   "outputs": [],
   "source": [
    "# Importing library\n",
    "import numpy as np\n",
    "import pandas as pd\n",
    "from sklearn.ensemble import RandomForestClassifier\n",
    "from sklearn.model_selection import train_test_split\n",
    "from sklearn.metrics import confusion_matrix, classification_report, accuracy_score"
   ]
  },
  {
   "cell_type": "code",
   "execution_count": 2,
   "id": "11f608dd-95cb-408a-82f9-60c344b489d4",
   "metadata": {},
   "outputs": [
    {
     "data": {
      "text/html": [
       "<div>\n",
       "<style scoped>\n",
       "    .dataframe tbody tr th:only-of-type {\n",
       "        vertical-align: middle;\n",
       "    }\n",
       "\n",
       "    .dataframe tbody tr th {\n",
       "        vertical-align: top;\n",
       "    }\n",
       "\n",
       "    .dataframe thead th {\n",
       "        text-align: right;\n",
       "    }\n",
       "</style>\n",
       "<table border=\"1\" class=\"dataframe\">\n",
       "  <thead>\n",
       "    <tr style=\"text-align: right;\">\n",
       "      <th></th>\n",
       "      <th>Pregnancies</th>\n",
       "      <th>Glucose</th>\n",
       "      <th>BloodPressure</th>\n",
       "      <th>SkinThickness</th>\n",
       "      <th>Insulin</th>\n",
       "      <th>BMI</th>\n",
       "      <th>DiabetesPedigreeFunction</th>\n",
       "      <th>Age</th>\n",
       "      <th>Outcome</th>\n",
       "    </tr>\n",
       "  </thead>\n",
       "  <tbody>\n",
       "    <tr>\n",
       "      <th>0</th>\n",
       "      <td>6</td>\n",
       "      <td>148</td>\n",
       "      <td>72</td>\n",
       "      <td>35</td>\n",
       "      <td>0</td>\n",
       "      <td>33.6</td>\n",
       "      <td>0.627</td>\n",
       "      <td>50</td>\n",
       "      <td>1</td>\n",
       "    </tr>\n",
       "    <tr>\n",
       "      <th>1</th>\n",
       "      <td>1</td>\n",
       "      <td>85</td>\n",
       "      <td>66</td>\n",
       "      <td>29</td>\n",
       "      <td>0</td>\n",
       "      <td>26.6</td>\n",
       "      <td>0.351</td>\n",
       "      <td>31</td>\n",
       "      <td>0</td>\n",
       "    </tr>\n",
       "    <tr>\n",
       "      <th>2</th>\n",
       "      <td>8</td>\n",
       "      <td>183</td>\n",
       "      <td>64</td>\n",
       "      <td>0</td>\n",
       "      <td>0</td>\n",
       "      <td>23.3</td>\n",
       "      <td>0.672</td>\n",
       "      <td>32</td>\n",
       "      <td>1</td>\n",
       "    </tr>\n",
       "    <tr>\n",
       "      <th>3</th>\n",
       "      <td>1</td>\n",
       "      <td>89</td>\n",
       "      <td>66</td>\n",
       "      <td>23</td>\n",
       "      <td>94</td>\n",
       "      <td>28.1</td>\n",
       "      <td>0.167</td>\n",
       "      <td>21</td>\n",
       "      <td>0</td>\n",
       "    </tr>\n",
       "    <tr>\n",
       "      <th>4</th>\n",
       "      <td>0</td>\n",
       "      <td>137</td>\n",
       "      <td>40</td>\n",
       "      <td>35</td>\n",
       "      <td>168</td>\n",
       "      <td>43.1</td>\n",
       "      <td>2.288</td>\n",
       "      <td>33</td>\n",
       "      <td>1</td>\n",
       "    </tr>\n",
       "  </tbody>\n",
       "</table>\n",
       "</div>"
      ],
      "text/plain": [
       "   Pregnancies  Glucose  BloodPressure  SkinThickness  Insulin   BMI  \\\n",
       "0            6      148             72             35        0  33.6   \n",
       "1            1       85             66             29        0  26.6   \n",
       "2            8      183             64              0        0  23.3   \n",
       "3            1       89             66             23       94  28.1   \n",
       "4            0      137             40             35      168  43.1   \n",
       "\n",
       "   DiabetesPedigreeFunction  Age  Outcome  \n",
       "0                     0.627   50        1  \n",
       "1                     0.351   31        0  \n",
       "2                     0.672   32        1  \n",
       "3                     0.167   21        0  \n",
       "4                     2.288   33        1  "
      ]
     },
     "execution_count": 2,
     "metadata": {},
     "output_type": "execute_result"
    }
   ],
   "source": [
    "df = pd.read_csv('diabetes.csv')\n",
    "df.head()"
   ]
  },
  {
   "cell_type": "markdown",
   "id": "1c0d6d34-b9ec-4505-860f-f31c181292da",
   "metadata": {},
   "source": [
    "**No need to perform feature scaling process bcoz there is no need for ensemble techniques. Its creates decision tree based on the condition**"
   ]
  },
  {
   "cell_type": "code",
   "execution_count": 3,
   "id": "51d50757-73c4-4873-a287-700b4b1a5a8c",
   "metadata": {},
   "outputs": [
    {
     "data": {
      "text/plain": [
       "0"
      ]
     },
     "execution_count": 3,
     "metadata": {},
     "output_type": "execute_result"
    }
   ],
   "source": [
    "df.isnull().sum().sum()"
   ]
  },
  {
   "cell_type": "code",
   "execution_count": 4,
   "id": "26e1598e-a1d5-4a57-a84e-ed92c93b4901",
   "metadata": {},
   "outputs": [],
   "source": [
    "# checking unique() shows 0 so we replace with median, bcoz 0 refers patient died\n",
    "df.Glucose = np.where(df['Glucose']==0, df.Glucose.median(), df.Glucose)\n",
    "df.SkinThickness = np.where(df.SkinThickness == 0, df.SkinThickness.median(), df.SkinThickness)\n",
    "df.Insulin = df.Insulin.replace(0, df.Insulin.median())\n",
    "df.BMI = np.where(df.BMI == 0, df.BMI.median(), df.BMI)"
   ]
  },
  {
   "cell_type": "code",
   "execution_count": 5,
   "id": "37b258f5-7a9b-4121-a553-6bdd10e342dc",
   "metadata": {},
   "outputs": [
    {
     "data": {
      "text/plain": [
       "0    500\n",
       "1    268\n",
       "Name: Outcome, dtype: int64"
      ]
     },
     "execution_count": 5,
     "metadata": {},
     "output_type": "execute_result"
    }
   ],
   "source": [
    "df.Outcome.value_counts()"
   ]
  },
  {
   "cell_type": "code",
   "execution_count": 6,
   "id": "ec2fc45f-5baa-4163-ade1-fcfb09a81e53",
   "metadata": {},
   "outputs": [],
   "source": [
    "# independent and dependent \n",
    "X = df.drop(['Outcome'], axis=1)\n",
    "y = df['Outcome']"
   ]
  },
  {
   "cell_type": "code",
   "execution_count": 7,
   "id": "232335f7-027a-4287-b90c-19ef2af41be4",
   "metadata": {},
   "outputs": [],
   "source": [
    "# Splitting the data into train and test\n",
    "X_train, X_test, y_train, y_test = train_test_split(X, y, test_size=0.2)"
   ]
  },
  {
   "cell_type": "code",
   "execution_count": 8,
   "id": "a83ea2af-fd25-4cd0-9d60-6cf6e8d14219",
   "metadata": {},
   "outputs": [
    {
     "data": {
      "text/plain": [
       "(154, 8)"
      ]
     },
     "execution_count": 8,
     "metadata": {},
     "output_type": "execute_result"
    }
   ],
   "source": [
    "X_test.shape"
   ]
  },
  {
   "cell_type": "markdown",
   "id": "0c13dfcc-039d-4a67-bce9-0bc27a0dae02",
   "metadata": {},
   "source": [
    "#### Without HyperParameterTunning:"
   ]
  },
  {
   "cell_type": "code",
   "execution_count": 9,
   "id": "1f6e7fe9-0c45-4ecb-8420-e14b20e51cef",
   "metadata": {},
   "outputs": [],
   "source": [
    "# Fit dataset into model\n",
    "rfc = RandomForestClassifier()\n",
    "rfc.fit(X_train, y_train)\n",
    "pred = rfc.predict(X_test)"
   ]
  },
  {
   "cell_type": "code",
   "execution_count": 10,
   "id": "8efc928c-102b-4549-87c6-84036071d817",
   "metadata": {},
   "outputs": [
    {
     "name": "stdout",
     "output_type": "stream",
     "text": [
      "0.7727272727272727\n",
      "[[90 23]\n",
      " [12 29]]\n",
      "              precision    recall  f1-score   support\n",
      "\n",
      "           0       0.88      0.80      0.84       113\n",
      "           1       0.56      0.71      0.62        41\n",
      "\n",
      "    accuracy                           0.77       154\n",
      "   macro avg       0.72      0.75      0.73       154\n",
      "weighted avg       0.80      0.77      0.78       154\n",
      "\n"
     ]
    }
   ],
   "source": [
    "print(accuracy_score(pred, y_test))\n",
    "print(confusion_matrix(pred, y_test))\n",
    "print(classification_report(pred, y_test))"
   ]
  },
  {
   "cell_type": "markdown",
   "id": "f3abdfb8-0f55-4235-87e2-b348fffcc4cd",
   "metadata": {},
   "source": [
    "#### Manual HyperParameterTunning:"
   ]
  },
  {
   "cell_type": "code",
   "execution_count": 11,
   "id": "404fec42-635f-4841-83c0-09ed726a38af",
   "metadata": {},
   "outputs": [],
   "source": [
    "# Fit dataset into model\n",
    "rfc = RandomForestClassifier(n_estimators=150, criterion='gini')  # change value and check accuracy for many times\n",
    "rfc.fit(X_train, y_train)\n",
    "pred = rfc.predict(X_test)"
   ]
  },
  {
   "cell_type": "code",
   "execution_count": 12,
   "id": "759b7644-d829-4232-9b8b-3d11a12c8c47",
   "metadata": {},
   "outputs": [
    {
     "name": "stdout",
     "output_type": "stream",
     "text": [
      "0.7272727272727273\n",
      "[[86 26]\n",
      " [16 26]]\n",
      "              precision    recall  f1-score   support\n",
      "\n",
      "           0       0.84      0.77      0.80       112\n",
      "           1       0.50      0.62      0.55        42\n",
      "\n",
      "    accuracy                           0.73       154\n",
      "   macro avg       0.67      0.69      0.68       154\n",
      "weighted avg       0.75      0.73      0.74       154\n",
      "\n"
     ]
    }
   ],
   "source": [
    "print(accuracy_score(pred, y_test))\n",
    "print(confusion_matrix(pred, y_test))\n",
    "print(classification_report(pred, y_test))"
   ]
  },
  {
   "cell_type": "markdown",
   "id": "986fc538-c702-4412-9b27-6d3022bb25be",
   "metadata": {},
   "source": [
    "### HyperParameter Tunning"
   ]
  },
  {
   "cell_type": "markdown",
   "id": "ec8121a8-6f62-4e13-9035-d3803fa05d5a",
   "metadata": {},
   "source": [
    "#### 1. Randomized SearchCV"
   ]
  },
  {
   "cell_type": "code",
   "execution_count": 13,
   "id": "0b6eeb8d-6f0c-430f-b487-a995ba153d03",
   "metadata": {},
   "outputs": [],
   "source": [
    "rfc = RandomForestClassifier()"
   ]
  },
  {
   "cell_type": "code",
   "execution_count": 14,
   "id": "53362e17-c929-467d-9e57-e26ad0e3d18c",
   "metadata": {},
   "outputs": [],
   "source": [
    "params = {'n_estimators':[100, 150, 200, 250, 300, 350, 400, 450, 500],\n",
    "          'criterion': ['gini','entropy'],\n",
    "          'min_samples_split': [2,3,4,5,6,7,8,9,10],\n",
    "          'min_samples_leaf': [1,3,5,7,9,11,13,15],\n",
    "          'max_features': ['auto','sqrt', 'log2'],\n",
    "          'max_depth': [10,20,30,40,50,60,70,80.90,100]\n",
    "         }"
   ]
  },
  {
   "cell_type": "code",
   "execution_count": 15,
   "id": "501b7dd3-db36-4039-825e-e296e1d8cef8",
   "metadata": {},
   "outputs": [
    {
     "name": "stdout",
     "output_type": "stream",
     "text": [
      "Fitting 3 folds for each of 100 candidates, totalling 300 fits\n",
      "[CV] END criterion=gini, max_depth=100, max_features=auto, min_samples_leaf=7, min_samples_split=2, n_estimators=100; total time=   0.1s\n",
      "[CV] END criterion=gini, max_depth=100, max_features=auto, min_samples_leaf=7, min_samples_split=2, n_estimators=100; total time=   0.1s\n",
      "[CV] END criterion=gini, max_depth=100, max_features=auto, min_samples_leaf=7, min_samples_split=2, n_estimators=100; total time=   0.1s\n",
      "[CV] END criterion=gini, max_depth=10, max_features=sqrt, min_samples_leaf=5, min_samples_split=7, n_estimators=350; total time=   0.5s\n",
      "[CV] END criterion=gini, max_depth=10, max_features=sqrt, min_samples_leaf=5, min_samples_split=7, n_estimators=350; total time=   0.7s\n",
      "[CV] END criterion=gini, max_depth=10, max_features=sqrt, min_samples_leaf=5, min_samples_split=7, n_estimators=350; total time=   1.1s\n",
      "[CV] END criterion=gini, max_depth=60, max_features=log2, min_samples_leaf=7, min_samples_split=4, n_estimators=450; total time=   0.8s\n",
      "[CV] END criterion=gini, max_depth=60, max_features=log2, min_samples_leaf=7, min_samples_split=4, n_estimators=450; total time=   0.6s\n",
      "[CV] END criterion=gini, max_depth=60, max_features=log2, min_samples_leaf=7, min_samples_split=4, n_estimators=450; total time=   0.7s\n",
      "[CV] END criterion=gini, max_depth=40, max_features=auto, min_samples_leaf=11, min_samples_split=5, n_estimators=150; total time=   0.1s\n",
      "[CV] END criterion=gini, max_depth=40, max_features=auto, min_samples_leaf=11, min_samples_split=5, n_estimators=150; total time=   0.1s\n",
      "[CV] END criterion=gini, max_depth=40, max_features=auto, min_samples_leaf=11, min_samples_split=5, n_estimators=150; total time=   0.2s\n",
      "[CV] END criterion=gini, max_depth=100, max_features=log2, min_samples_leaf=1, min_samples_split=2, n_estimators=200; total time=   0.3s\n",
      "[CV] END criterion=gini, max_depth=100, max_features=log2, min_samples_leaf=1, min_samples_split=2, n_estimators=200; total time=   0.3s\n",
      "[CV] END criterion=gini, max_depth=100, max_features=log2, min_samples_leaf=1, min_samples_split=2, n_estimators=200; total time=   0.3s\n",
      "[CV] END criterion=entropy, max_depth=30, max_features=auto, min_samples_leaf=15, min_samples_split=3, n_estimators=200; total time=   0.3s\n",
      "[CV] END criterion=entropy, max_depth=30, max_features=auto, min_samples_leaf=15, min_samples_split=3, n_estimators=200; total time=   0.3s\n",
      "[CV] END criterion=entropy, max_depth=30, max_features=auto, min_samples_leaf=15, min_samples_split=3, n_estimators=200; total time=   0.3s\n",
      "[CV] END criterion=gini, max_depth=100, max_features=auto, min_samples_leaf=11, min_samples_split=9, n_estimators=250; total time=   0.3s\n",
      "[CV] END criterion=gini, max_depth=100, max_features=auto, min_samples_leaf=11, min_samples_split=9, n_estimators=250; total time=   0.3s\n",
      "[CV] END criterion=gini, max_depth=100, max_features=auto, min_samples_leaf=11, min_samples_split=9, n_estimators=250; total time=   0.3s\n",
      "[CV] END criterion=gini, max_depth=10, max_features=log2, min_samples_leaf=9, min_samples_split=9, n_estimators=200; total time=   0.3s\n",
      "[CV] END criterion=gini, max_depth=10, max_features=log2, min_samples_leaf=9, min_samples_split=9, n_estimators=200; total time=   0.4s\n",
      "[CV] END criterion=gini, max_depth=10, max_features=log2, min_samples_leaf=9, min_samples_split=9, n_estimators=200; total time=   0.2s\n",
      "[CV] END criterion=gini, max_depth=10, max_features=sqrt, min_samples_leaf=3, min_samples_split=6, n_estimators=300; total time=   0.4s\n",
      "[CV] END criterion=gini, max_depth=10, max_features=sqrt, min_samples_leaf=3, min_samples_split=6, n_estimators=300; total time=   0.4s\n",
      "[CV] END criterion=gini, max_depth=10, max_features=sqrt, min_samples_leaf=3, min_samples_split=6, n_estimators=300; total time=   0.5s\n",
      "[CV] END criterion=gini, max_depth=20, max_features=auto, min_samples_leaf=13, min_samples_split=2, n_estimators=250; total time=   0.4s\n",
      "[CV] END criterion=gini, max_depth=20, max_features=auto, min_samples_leaf=13, min_samples_split=2, n_estimators=250; total time=   0.3s\n",
      "[CV] END criterion=gini, max_depth=20, max_features=auto, min_samples_leaf=13, min_samples_split=2, n_estimators=250; total time=   0.3s\n",
      "[CV] END criterion=gini, max_depth=30, max_features=log2, min_samples_leaf=3, min_samples_split=7, n_estimators=150; total time=   0.2s\n",
      "[CV] END criterion=gini, max_depth=30, max_features=log2, min_samples_leaf=3, min_samples_split=7, n_estimators=150; total time=   0.2s\n",
      "[CV] END criterion=gini, max_depth=30, max_features=log2, min_samples_leaf=3, min_samples_split=7, n_estimators=150; total time=   0.2s\n",
      "[CV] END criterion=entropy, max_depth=10, max_features=auto, min_samples_leaf=1, min_samples_split=10, n_estimators=100; total time=   0.1s\n",
      "[CV] END criterion=entropy, max_depth=10, max_features=auto, min_samples_leaf=1, min_samples_split=10, n_estimators=100; total time=   0.1s\n",
      "[CV] END criterion=entropy, max_depth=10, max_features=auto, min_samples_leaf=1, min_samples_split=10, n_estimators=100; total time=   0.1s\n",
      "[CV] END criterion=entropy, max_depth=20, max_features=auto, min_samples_leaf=9, min_samples_split=2, n_estimators=350; total time=   0.5s\n",
      "[CV] END criterion=entropy, max_depth=20, max_features=auto, min_samples_leaf=9, min_samples_split=2, n_estimators=350; total time=   0.5s\n",
      "[CV] END criterion=entropy, max_depth=20, max_features=auto, min_samples_leaf=9, min_samples_split=2, n_estimators=350; total time=   0.5s\n",
      "[CV] END criterion=entropy, max_depth=60, max_features=log2, min_samples_leaf=5, min_samples_split=4, n_estimators=150; total time=   0.2s\n",
      "[CV] END criterion=entropy, max_depth=60, max_features=log2, min_samples_leaf=5, min_samples_split=4, n_estimators=150; total time=   0.2s\n",
      "[CV] END criterion=entropy, max_depth=60, max_features=log2, min_samples_leaf=5, min_samples_split=4, n_estimators=150; total time=   0.2s\n",
      "[CV] END criterion=gini, max_depth=40, max_features=auto, min_samples_leaf=13, min_samples_split=10, n_estimators=400; total time=   0.5s\n",
      "[CV] END criterion=gini, max_depth=40, max_features=auto, min_samples_leaf=13, min_samples_split=10, n_estimators=400; total time=   0.5s\n",
      "[CV] END criterion=gini, max_depth=40, max_features=auto, min_samples_leaf=13, min_samples_split=10, n_estimators=400; total time=   0.5s\n",
      "[CV] END criterion=entropy, max_depth=60, max_features=auto, min_samples_leaf=7, min_samples_split=4, n_estimators=250; total time=   0.3s\n",
      "[CV] END criterion=entropy, max_depth=60, max_features=auto, min_samples_leaf=7, min_samples_split=4, n_estimators=250; total time=   0.3s\n",
      "[CV] END criterion=entropy, max_depth=60, max_features=auto, min_samples_leaf=7, min_samples_split=4, n_estimators=250; total time=   0.3s\n",
      "[CV] END criterion=entropy, max_depth=50, max_features=auto, min_samples_leaf=9, min_samples_split=8, n_estimators=500; total time=   0.7s\n",
      "[CV] END criterion=entropy, max_depth=50, max_features=auto, min_samples_leaf=9, min_samples_split=8, n_estimators=500; total time=   0.7s\n",
      "[CV] END criterion=entropy, max_depth=50, max_features=auto, min_samples_leaf=9, min_samples_split=8, n_estimators=500; total time=   0.8s\n",
      "[CV] END criterion=entropy, max_depth=10, max_features=log2, min_samples_leaf=3, min_samples_split=9, n_estimators=400; total time=   0.7s\n",
      "[CV] END criterion=entropy, max_depth=10, max_features=log2, min_samples_leaf=3, min_samples_split=9, n_estimators=400; total time=   0.6s\n",
      "[CV] END criterion=entropy, max_depth=10, max_features=log2, min_samples_leaf=3, min_samples_split=9, n_estimators=400; total time=   0.6s\n",
      "[CV] END criterion=entropy, max_depth=10, max_features=sqrt, min_samples_leaf=7, min_samples_split=6, n_estimators=500; total time=   0.7s\n",
      "[CV] END criterion=entropy, max_depth=10, max_features=sqrt, min_samples_leaf=7, min_samples_split=6, n_estimators=500; total time=   0.7s\n",
      "[CV] END criterion=entropy, max_depth=10, max_features=sqrt, min_samples_leaf=7, min_samples_split=6, n_estimators=500; total time=   0.8s\n",
      "[CV] END criterion=gini, max_depth=20, max_features=sqrt, min_samples_leaf=3, min_samples_split=10, n_estimators=200; total time=   0.2s\n",
      "[CV] END criterion=gini, max_depth=20, max_features=sqrt, min_samples_leaf=3, min_samples_split=10, n_estimators=200; total time=   0.2s\n",
      "[CV] END criterion=gini, max_depth=20, max_features=sqrt, min_samples_leaf=3, min_samples_split=10, n_estimators=200; total time=   0.2s\n",
      "[CV] END criterion=gini, max_depth=10, max_features=auto, min_samples_leaf=5, min_samples_split=5, n_estimators=100; total time=   0.1s\n",
      "[CV] END criterion=gini, max_depth=10, max_features=auto, min_samples_leaf=5, min_samples_split=5, n_estimators=100; total time=   0.1s\n",
      "[CV] END criterion=gini, max_depth=10, max_features=auto, min_samples_leaf=5, min_samples_split=5, n_estimators=100; total time=   0.1s\n",
      "[CV] END criterion=entropy, max_depth=10, max_features=log2, min_samples_leaf=9, min_samples_split=2, n_estimators=200; total time=   0.2s\n",
      "[CV] END criterion=entropy, max_depth=10, max_features=log2, min_samples_leaf=9, min_samples_split=2, n_estimators=200; total time=   0.2s\n",
      "[CV] END criterion=entropy, max_depth=10, max_features=log2, min_samples_leaf=9, min_samples_split=2, n_estimators=200; total time=   0.3s\n",
      "[CV] END criterion=gini, max_depth=10, max_features=log2, min_samples_leaf=15, min_samples_split=6, n_estimators=100; total time=   0.1s\n",
      "[CV] END criterion=gini, max_depth=10, max_features=log2, min_samples_leaf=15, min_samples_split=6, n_estimators=100; total time=   0.1s\n",
      "[CV] END criterion=gini, max_depth=10, max_features=log2, min_samples_leaf=15, min_samples_split=6, n_estimators=100; total time=   0.1s\n",
      "[CV] END criterion=gini, max_depth=10, max_features=sqrt, min_samples_leaf=15, min_samples_split=7, n_estimators=450; total time=   0.6s\n",
      "[CV] END criterion=gini, max_depth=10, max_features=sqrt, min_samples_leaf=15, min_samples_split=7, n_estimators=450; total time=   0.6s\n",
      "[CV] END criterion=gini, max_depth=10, max_features=sqrt, min_samples_leaf=15, min_samples_split=7, n_estimators=450; total time=   0.6s\n",
      "[CV] END criterion=entropy, max_depth=80.9, max_features=auto, min_samples_leaf=11, min_samples_split=6, n_estimators=400; total time=   0.6s\n",
      "[CV] END criterion=entropy, max_depth=80.9, max_features=auto, min_samples_leaf=11, min_samples_split=6, n_estimators=400; total time=   0.6s\n",
      "[CV] END criterion=entropy, max_depth=80.9, max_features=auto, min_samples_leaf=11, min_samples_split=6, n_estimators=400; total time=   0.6s\n",
      "[CV] END criterion=gini, max_depth=60, max_features=log2, min_samples_leaf=9, min_samples_split=8, n_estimators=100; total time=   0.1s\n",
      "[CV] END criterion=gini, max_depth=60, max_features=log2, min_samples_leaf=9, min_samples_split=8, n_estimators=100; total time=   0.1s\n",
      "[CV] END criterion=gini, max_depth=60, max_features=log2, min_samples_leaf=9, min_samples_split=8, n_estimators=100; total time=   0.1s\n",
      "[CV] END criterion=gini, max_depth=20, max_features=log2, min_samples_leaf=7, min_samples_split=10, n_estimators=150; total time=   0.2s\n",
      "[CV] END criterion=gini, max_depth=20, max_features=log2, min_samples_leaf=7, min_samples_split=10, n_estimators=150; total time=   0.2s\n",
      "[CV] END criterion=gini, max_depth=20, max_features=log2, min_samples_leaf=7, min_samples_split=10, n_estimators=150; total time=   0.2s\n",
      "[CV] END criterion=gini, max_depth=30, max_features=auto, min_samples_leaf=1, min_samples_split=2, n_estimators=200; total time=   0.3s\n",
      "[CV] END criterion=gini, max_depth=30, max_features=auto, min_samples_leaf=1, min_samples_split=2, n_estimators=200; total time=   0.3s\n",
      "[CV] END criterion=gini, max_depth=30, max_features=auto, min_samples_leaf=1, min_samples_split=2, n_estimators=200; total time=   0.3s\n",
      "[CV] END criterion=entropy, max_depth=70, max_features=log2, min_samples_leaf=7, min_samples_split=6, n_estimators=350; total time=   0.5s\n",
      "[CV] END criterion=entropy, max_depth=70, max_features=log2, min_samples_leaf=7, min_samples_split=6, n_estimators=350; total time=   0.5s\n",
      "[CV] END criterion=entropy, max_depth=70, max_features=log2, min_samples_leaf=7, min_samples_split=6, n_estimators=350; total time=   0.5s\n",
      "[CV] END criterion=gini, max_depth=80.9, max_features=sqrt, min_samples_leaf=7, min_samples_split=2, n_estimators=250; total time=   0.3s\n",
      "[CV] END criterion=gini, max_depth=80.9, max_features=sqrt, min_samples_leaf=7, min_samples_split=2, n_estimators=250; total time=   0.3s\n",
      "[CV] END criterion=gini, max_depth=80.9, max_features=sqrt, min_samples_leaf=7, min_samples_split=2, n_estimators=250; total time=   0.3s\n",
      "[CV] END criterion=entropy, max_depth=30, max_features=auto, min_samples_leaf=9, min_samples_split=9, n_estimators=400; total time=   0.6s\n",
      "[CV] END criterion=entropy, max_depth=30, max_features=auto, min_samples_leaf=9, min_samples_split=9, n_estimators=400; total time=   0.6s\n",
      "[CV] END criterion=entropy, max_depth=30, max_features=auto, min_samples_leaf=9, min_samples_split=9, n_estimators=400; total time=   0.6s\n",
      "[CV] END criterion=gini, max_depth=60, max_features=sqrt, min_samples_leaf=7, min_samples_split=3, n_estimators=450; total time=   0.6s\n",
      "[CV] END criterion=gini, max_depth=60, max_features=sqrt, min_samples_leaf=7, min_samples_split=3, n_estimators=450; total time=   0.6s\n",
      "[CV] END criterion=gini, max_depth=60, max_features=sqrt, min_samples_leaf=7, min_samples_split=3, n_estimators=450; total time=   0.6s\n",
      "[CV] END criterion=gini, max_depth=50, max_features=sqrt, min_samples_leaf=9, min_samples_split=6, n_estimators=500; total time=   0.7s\n",
      "[CV] END criterion=gini, max_depth=50, max_features=sqrt, min_samples_leaf=9, min_samples_split=6, n_estimators=500; total time=   0.7s\n",
      "[CV] END criterion=gini, max_depth=50, max_features=sqrt, min_samples_leaf=9, min_samples_split=6, n_estimators=500; total time=   0.7s\n",
      "[CV] END criterion=gini, max_depth=50, max_features=sqrt, min_samples_leaf=1, min_samples_split=3, n_estimators=100; total time=   0.1s\n",
      "[CV] END criterion=gini, max_depth=50, max_features=sqrt, min_samples_leaf=1, min_samples_split=3, n_estimators=100; total time=   0.1s\n",
      "[CV] END criterion=gini, max_depth=50, max_features=sqrt, min_samples_leaf=1, min_samples_split=3, n_estimators=100; total time=   0.1s\n",
      "[CV] END criterion=gini, max_depth=60, max_features=log2, min_samples_leaf=1, min_samples_split=2, n_estimators=100; total time=   0.1s\n",
      "[CV] END criterion=gini, max_depth=60, max_features=log2, min_samples_leaf=1, min_samples_split=2, n_estimators=100; total time=   0.1s\n",
      "[CV] END criterion=gini, max_depth=60, max_features=log2, min_samples_leaf=1, min_samples_split=2, n_estimators=100; total time=   0.1s\n",
      "[CV] END criterion=entropy, max_depth=40, max_features=auto, min_samples_leaf=15, min_samples_split=2, n_estimators=200; total time=   0.2s\n",
      "[CV] END criterion=entropy, max_depth=40, max_features=auto, min_samples_leaf=15, min_samples_split=2, n_estimators=200; total time=   0.2s\n",
      "[CV] END criterion=entropy, max_depth=40, max_features=auto, min_samples_leaf=15, min_samples_split=2, n_estimators=200; total time=   0.2s\n",
      "[CV] END criterion=gini, max_depth=20, max_features=sqrt, min_samples_leaf=1, min_samples_split=4, n_estimators=200; total time=   0.2s\n",
      "[CV] END criterion=gini, max_depth=20, max_features=sqrt, min_samples_leaf=1, min_samples_split=4, n_estimators=200; total time=   0.2s\n",
      "[CV] END criterion=gini, max_depth=20, max_features=sqrt, min_samples_leaf=1, min_samples_split=4, n_estimators=200; total time=   0.3s\n",
      "[CV] END criterion=entropy, max_depth=40, max_features=auto, min_samples_leaf=3, min_samples_split=10, n_estimators=200; total time=   0.3s\n",
      "[CV] END criterion=entropy, max_depth=40, max_features=auto, min_samples_leaf=3, min_samples_split=10, n_estimators=200; total time=   0.3s\n",
      "[CV] END criterion=entropy, max_depth=40, max_features=auto, min_samples_leaf=3, min_samples_split=10, n_estimators=200; total time=   0.2s\n",
      "[CV] END criterion=gini, max_depth=100, max_features=log2, min_samples_leaf=7, min_samples_split=9, n_estimators=350; total time=   0.5s\n",
      "[CV] END criterion=gini, max_depth=100, max_features=log2, min_samples_leaf=7, min_samples_split=9, n_estimators=350; total time=   0.5s\n",
      "[CV] END criterion=gini, max_depth=100, max_features=log2, min_samples_leaf=7, min_samples_split=9, n_estimators=350; total time=   0.5s\n",
      "[CV] END criterion=gini, max_depth=80.9, max_features=sqrt, min_samples_leaf=7, min_samples_split=6, n_estimators=400; total time=   0.5s\n",
      "[CV] END criterion=gini, max_depth=80.9, max_features=sqrt, min_samples_leaf=7, min_samples_split=6, n_estimators=400; total time=   0.5s\n",
      "[CV] END criterion=gini, max_depth=80.9, max_features=sqrt, min_samples_leaf=7, min_samples_split=6, n_estimators=400; total time=   0.5s\n",
      "[CV] END criterion=entropy, max_depth=50, max_features=sqrt, min_samples_leaf=15, min_samples_split=6, n_estimators=500; total time=   0.7s\n",
      "[CV] END criterion=entropy, max_depth=50, max_features=sqrt, min_samples_leaf=15, min_samples_split=6, n_estimators=500; total time=   0.8s\n",
      "[CV] END criterion=entropy, max_depth=50, max_features=sqrt, min_samples_leaf=15, min_samples_split=6, n_estimators=500; total time=   0.7s\n",
      "[CV] END criterion=gini, max_depth=10, max_features=log2, min_samples_leaf=7, min_samples_split=7, n_estimators=150; total time=   0.2s\n",
      "[CV] END criterion=gini, max_depth=10, max_features=log2, min_samples_leaf=7, min_samples_split=7, n_estimators=150; total time=   0.2s\n",
      "[CV] END criterion=gini, max_depth=10, max_features=log2, min_samples_leaf=7, min_samples_split=7, n_estimators=150; total time=   0.2s\n",
      "[CV] END criterion=gini, max_depth=30, max_features=auto, min_samples_leaf=1, min_samples_split=8, n_estimators=150; total time=   0.2s\n",
      "[CV] END criterion=gini, max_depth=30, max_features=auto, min_samples_leaf=1, min_samples_split=8, n_estimators=150; total time=   0.2s\n",
      "[CV] END criterion=gini, max_depth=30, max_features=auto, min_samples_leaf=1, min_samples_split=8, n_estimators=150; total time=   0.2s\n",
      "[CV] END criterion=entropy, max_depth=40, max_features=auto, min_samples_leaf=15, min_samples_split=6, n_estimators=500; total time=   0.7s\n",
      "[CV] END criterion=entropy, max_depth=40, max_features=auto, min_samples_leaf=15, min_samples_split=6, n_estimators=500; total time=   0.7s\n",
      "[CV] END criterion=entropy, max_depth=40, max_features=auto, min_samples_leaf=15, min_samples_split=6, n_estimators=500; total time=   0.7s\n",
      "[CV] END criterion=entropy, max_depth=20, max_features=auto, min_samples_leaf=1, min_samples_split=3, n_estimators=500; total time=   0.8s\n",
      "[CV] END criterion=entropy, max_depth=20, max_features=auto, min_samples_leaf=1, min_samples_split=3, n_estimators=500; total time=   1.0s\n",
      "[CV] END criterion=entropy, max_depth=20, max_features=auto, min_samples_leaf=1, min_samples_split=3, n_estimators=500; total time=   0.8s\n",
      "[CV] END criterion=gini, max_depth=10, max_features=sqrt, min_samples_leaf=9, min_samples_split=7, n_estimators=300; total time=   0.5s\n",
      "[CV] END criterion=gini, max_depth=10, max_features=sqrt, min_samples_leaf=9, min_samples_split=7, n_estimators=300; total time=   0.4s\n",
      "[CV] END criterion=gini, max_depth=10, max_features=sqrt, min_samples_leaf=9, min_samples_split=7, n_estimators=300; total time=   0.4s\n",
      "[CV] END criterion=gini, max_depth=60, max_features=log2, min_samples_leaf=15, min_samples_split=9, n_estimators=450; total time=   0.7s\n",
      "[CV] END criterion=gini, max_depth=60, max_features=log2, min_samples_leaf=15, min_samples_split=9, n_estimators=450; total time=   0.7s\n",
      "[CV] END criterion=gini, max_depth=60, max_features=log2, min_samples_leaf=15, min_samples_split=9, n_estimators=450; total time=   0.7s\n",
      "[CV] END criterion=gini, max_depth=70, max_features=log2, min_samples_leaf=11, min_samples_split=7, n_estimators=450; total time=   0.9s\n",
      "[CV] END criterion=gini, max_depth=70, max_features=log2, min_samples_leaf=11, min_samples_split=7, n_estimators=450; total time=   0.9s\n",
      "[CV] END criterion=gini, max_depth=70, max_features=log2, min_samples_leaf=11, min_samples_split=7, n_estimators=450; total time=   1.1s\n",
      "[CV] END criterion=gini, max_depth=50, max_features=log2, min_samples_leaf=15, min_samples_split=7, n_estimators=500; total time=   1.1s\n",
      "[CV] END criterion=gini, max_depth=50, max_features=log2, min_samples_leaf=15, min_samples_split=7, n_estimators=500; total time=   1.2s\n",
      "[CV] END criterion=gini, max_depth=50, max_features=log2, min_samples_leaf=15, min_samples_split=7, n_estimators=500; total time=   0.8s\n",
      "[CV] END criterion=gini, max_depth=40, max_features=sqrt, min_samples_leaf=9, min_samples_split=9, n_estimators=400; total time=   0.6s\n",
      "[CV] END criterion=gini, max_depth=40, max_features=sqrt, min_samples_leaf=9, min_samples_split=9, n_estimators=400; total time=   0.9s\n",
      "[CV] END criterion=gini, max_depth=40, max_features=sqrt, min_samples_leaf=9, min_samples_split=9, n_estimators=400; total time=   0.7s\n",
      "[CV] END criterion=gini, max_depth=30, max_features=log2, min_samples_leaf=13, min_samples_split=2, n_estimators=350; total time=   0.5s\n",
      "[CV] END criterion=gini, max_depth=30, max_features=log2, min_samples_leaf=13, min_samples_split=2, n_estimators=350; total time=   0.5s\n",
      "[CV] END criterion=gini, max_depth=30, max_features=log2, min_samples_leaf=13, min_samples_split=2, n_estimators=350; total time=   0.5s\n",
      "[CV] END criterion=gini, max_depth=10, max_features=auto, min_samples_leaf=3, min_samples_split=10, n_estimators=500; total time=   0.8s\n",
      "[CV] END criterion=gini, max_depth=10, max_features=auto, min_samples_leaf=3, min_samples_split=10, n_estimators=500; total time=   0.7s\n",
      "[CV] END criterion=gini, max_depth=10, max_features=auto, min_samples_leaf=3, min_samples_split=10, n_estimators=500; total time=   0.7s\n",
      "[CV] END criterion=entropy, max_depth=50, max_features=sqrt, min_samples_leaf=15, min_samples_split=9, n_estimators=450; total time=   0.6s\n",
      "[CV] END criterion=entropy, max_depth=50, max_features=sqrt, min_samples_leaf=15, min_samples_split=9, n_estimators=450; total time=   0.6s\n",
      "[CV] END criterion=entropy, max_depth=50, max_features=sqrt, min_samples_leaf=15, min_samples_split=9, n_estimators=450; total time=   0.7s\n",
      "[CV] END criterion=entropy, max_depth=100, max_features=sqrt, min_samples_leaf=1, min_samples_split=9, n_estimators=300; total time=   0.5s\n",
      "[CV] END criterion=entropy, max_depth=100, max_features=sqrt, min_samples_leaf=1, min_samples_split=9, n_estimators=300; total time=   0.5s\n",
      "[CV] END criterion=entropy, max_depth=100, max_features=sqrt, min_samples_leaf=1, min_samples_split=9, n_estimators=300; total time=   0.4s\n",
      "[CV] END criterion=entropy, max_depth=80.9, max_features=log2, min_samples_leaf=5, min_samples_split=6, n_estimators=500; total time=   0.8s\n",
      "[CV] END criterion=entropy, max_depth=80.9, max_features=log2, min_samples_leaf=5, min_samples_split=6, n_estimators=500; total time=   0.9s\n",
      "[CV] END criterion=entropy, max_depth=80.9, max_features=log2, min_samples_leaf=5, min_samples_split=6, n_estimators=500; total time=   0.8s\n",
      "[CV] END criterion=gini, max_depth=60, max_features=log2, min_samples_leaf=13, min_samples_split=5, n_estimators=350; total time=   0.5s\n",
      "[CV] END criterion=gini, max_depth=60, max_features=log2, min_samples_leaf=13, min_samples_split=5, n_estimators=350; total time=   0.5s\n",
      "[CV] END criterion=gini, max_depth=60, max_features=log2, min_samples_leaf=13, min_samples_split=5, n_estimators=350; total time=   0.5s\n",
      "[CV] END criterion=entropy, max_depth=60, max_features=log2, min_samples_leaf=15, min_samples_split=7, n_estimators=250; total time=   0.3s\n",
      "[CV] END criterion=entropy, max_depth=60, max_features=log2, min_samples_leaf=15, min_samples_split=7, n_estimators=250; total time=   0.3s\n",
      "[CV] END criterion=entropy, max_depth=60, max_features=log2, min_samples_leaf=15, min_samples_split=7, n_estimators=250; total time=   0.4s\n",
      "[CV] END criterion=entropy, max_depth=50, max_features=auto, min_samples_leaf=15, min_samples_split=3, n_estimators=250; total time=   0.3s\n",
      "[CV] END criterion=entropy, max_depth=50, max_features=auto, min_samples_leaf=15, min_samples_split=3, n_estimators=250; total time=   0.4s\n",
      "[CV] END criterion=entropy, max_depth=50, max_features=auto, min_samples_leaf=15, min_samples_split=3, n_estimators=250; total time=   0.3s\n",
      "[CV] END criterion=gini, max_depth=10, max_features=sqrt, min_samples_leaf=9, min_samples_split=6, n_estimators=500; total time=   0.7s\n",
      "[CV] END criterion=gini, max_depth=10, max_features=sqrt, min_samples_leaf=9, min_samples_split=6, n_estimators=500; total time=   0.8s\n",
      "[CV] END criterion=gini, max_depth=10, max_features=sqrt, min_samples_leaf=9, min_samples_split=6, n_estimators=500; total time=   0.7s\n",
      "[CV] END criterion=entropy, max_depth=40, max_features=sqrt, min_samples_leaf=7, min_samples_split=5, n_estimators=450; total time=   0.8s\n",
      "[CV] END criterion=entropy, max_depth=40, max_features=sqrt, min_samples_leaf=7, min_samples_split=5, n_estimators=450; total time=   0.7s\n",
      "[CV] END criterion=entropy, max_depth=40, max_features=sqrt, min_samples_leaf=7, min_samples_split=5, n_estimators=450; total time=   0.8s\n",
      "[CV] END criterion=entropy, max_depth=40, max_features=sqrt, min_samples_leaf=7, min_samples_split=8, n_estimators=250; total time=   0.3s\n",
      "[CV] END criterion=entropy, max_depth=40, max_features=sqrt, min_samples_leaf=7, min_samples_split=8, n_estimators=250; total time=   0.3s\n",
      "[CV] END criterion=entropy, max_depth=40, max_features=sqrt, min_samples_leaf=7, min_samples_split=8, n_estimators=250; total time=   0.4s\n",
      "[CV] END criterion=entropy, max_depth=30, max_features=log2, min_samples_leaf=15, min_samples_split=2, n_estimators=100; total time=   0.1s\n",
      "[CV] END criterion=entropy, max_depth=30, max_features=log2, min_samples_leaf=15, min_samples_split=2, n_estimators=100; total time=   0.1s\n",
      "[CV] END criterion=entropy, max_depth=30, max_features=log2, min_samples_leaf=15, min_samples_split=2, n_estimators=100; total time=   0.1s\n",
      "[CV] END criterion=entropy, max_depth=40, max_features=sqrt, min_samples_leaf=9, min_samples_split=2, n_estimators=100; total time=   0.1s\n",
      "[CV] END criterion=entropy, max_depth=40, max_features=sqrt, min_samples_leaf=9, min_samples_split=2, n_estimators=100; total time=   0.1s\n",
      "[CV] END criterion=entropy, max_depth=40, max_features=sqrt, min_samples_leaf=9, min_samples_split=2, n_estimators=100; total time=   0.1s\n",
      "[CV] END criterion=gini, max_depth=50, max_features=sqrt, min_samples_leaf=3, min_samples_split=4, n_estimators=400; total time=   0.8s\n",
      "[CV] END criterion=gini, max_depth=50, max_features=sqrt, min_samples_leaf=3, min_samples_split=4, n_estimators=400; total time=   0.6s\n",
      "[CV] END criterion=gini, max_depth=50, max_features=sqrt, min_samples_leaf=3, min_samples_split=4, n_estimators=400; total time=   0.6s\n",
      "[CV] END criterion=gini, max_depth=100, max_features=log2, min_samples_leaf=11, min_samples_split=3, n_estimators=100; total time=   0.1s\n",
      "[CV] END criterion=gini, max_depth=100, max_features=log2, min_samples_leaf=11, min_samples_split=3, n_estimators=100; total time=   0.1s\n",
      "[CV] END criterion=gini, max_depth=100, max_features=log2, min_samples_leaf=11, min_samples_split=3, n_estimators=100; total time=   0.1s\n",
      "[CV] END criterion=gini, max_depth=50, max_features=log2, min_samples_leaf=5, min_samples_split=5, n_estimators=450; total time=   0.7s\n",
      "[CV] END criterion=gini, max_depth=50, max_features=log2, min_samples_leaf=5, min_samples_split=5, n_estimators=450; total time=   0.7s\n",
      "[CV] END criterion=gini, max_depth=50, max_features=log2, min_samples_leaf=5, min_samples_split=5, n_estimators=450; total time=   0.6s\n",
      "[CV] END criterion=entropy, max_depth=20, max_features=log2, min_samples_leaf=13, min_samples_split=7, n_estimators=300; total time=   0.4s\n",
      "[CV] END criterion=entropy, max_depth=20, max_features=log2, min_samples_leaf=13, min_samples_split=7, n_estimators=300; total time=   0.4s\n",
      "[CV] END criterion=entropy, max_depth=20, max_features=log2, min_samples_leaf=13, min_samples_split=7, n_estimators=300; total time=   0.4s\n",
      "[CV] END criterion=gini, max_depth=70, max_features=auto, min_samples_leaf=13, min_samples_split=5, n_estimators=500; total time=   0.7s\n",
      "[CV] END criterion=gini, max_depth=70, max_features=auto, min_samples_leaf=13, min_samples_split=5, n_estimators=500; total time=   0.7s\n",
      "[CV] END criterion=gini, max_depth=70, max_features=auto, min_samples_leaf=13, min_samples_split=5, n_estimators=500; total time=   0.8s\n",
      "[CV] END criterion=entropy, max_depth=20, max_features=log2, min_samples_leaf=13, min_samples_split=4, n_estimators=250; total time=   0.3s\n",
      "[CV] END criterion=entropy, max_depth=20, max_features=log2, min_samples_leaf=13, min_samples_split=4, n_estimators=250; total time=   0.4s\n",
      "[CV] END criterion=entropy, max_depth=20, max_features=log2, min_samples_leaf=13, min_samples_split=4, n_estimators=250; total time=   0.4s\n",
      "[CV] END criterion=gini, max_depth=50, max_features=sqrt, min_samples_leaf=3, min_samples_split=9, n_estimators=250; total time=   0.4s\n",
      "[CV] END criterion=gini, max_depth=50, max_features=sqrt, min_samples_leaf=3, min_samples_split=9, n_estimators=250; total time=   0.4s\n",
      "[CV] END criterion=gini, max_depth=50, max_features=sqrt, min_samples_leaf=3, min_samples_split=9, n_estimators=250; total time=   0.3s\n",
      "[CV] END criterion=gini, max_depth=20, max_features=auto, min_samples_leaf=15, min_samples_split=8, n_estimators=250; total time=   0.3s\n",
      "[CV] END criterion=gini, max_depth=20, max_features=auto, min_samples_leaf=15, min_samples_split=8, n_estimators=250; total time=   0.3s\n",
      "[CV] END criterion=gini, max_depth=20, max_features=auto, min_samples_leaf=15, min_samples_split=8, n_estimators=250; total time=   0.3s\n",
      "[CV] END criterion=gini, max_depth=20, max_features=auto, min_samples_leaf=3, min_samples_split=2, n_estimators=200; total time=   0.3s\n",
      "[CV] END criterion=gini, max_depth=20, max_features=auto, min_samples_leaf=3, min_samples_split=2, n_estimators=200; total time=   0.2s\n",
      "[CV] END criterion=gini, max_depth=20, max_features=auto, min_samples_leaf=3, min_samples_split=2, n_estimators=200; total time=   0.3s\n",
      "[CV] END criterion=gini, max_depth=20, max_features=sqrt, min_samples_leaf=3, min_samples_split=4, n_estimators=300; total time=   0.5s\n",
      "[CV] END criterion=gini, max_depth=20, max_features=sqrt, min_samples_leaf=3, min_samples_split=4, n_estimators=300; total time=   0.4s\n",
      "[CV] END criterion=gini, max_depth=20, max_features=sqrt, min_samples_leaf=3, min_samples_split=4, n_estimators=300; total time=   0.4s\n",
      "[CV] END criterion=gini, max_depth=30, max_features=log2, min_samples_leaf=1, min_samples_split=10, n_estimators=200; total time=   0.3s\n",
      "[CV] END criterion=gini, max_depth=30, max_features=log2, min_samples_leaf=1, min_samples_split=10, n_estimators=200; total time=   0.3s\n",
      "[CV] END criterion=gini, max_depth=30, max_features=log2, min_samples_leaf=1, min_samples_split=10, n_estimators=200; total time=   0.3s\n",
      "[CV] END criterion=entropy, max_depth=30, max_features=auto, min_samples_leaf=15, min_samples_split=7, n_estimators=400; total time=   0.5s\n",
      "[CV] END criterion=entropy, max_depth=30, max_features=auto, min_samples_leaf=15, min_samples_split=7, n_estimators=400; total time=   0.6s\n",
      "[CV] END criterion=entropy, max_depth=30, max_features=auto, min_samples_leaf=15, min_samples_split=7, n_estimators=400; total time=   0.5s\n",
      "[CV] END criterion=entropy, max_depth=100, max_features=auto, min_samples_leaf=3, min_samples_split=5, n_estimators=250; total time=   0.3s\n",
      "[CV] END criterion=entropy, max_depth=100, max_features=auto, min_samples_leaf=3, min_samples_split=5, n_estimators=250; total time=   0.4s\n",
      "[CV] END criterion=entropy, max_depth=100, max_features=auto, min_samples_leaf=3, min_samples_split=5, n_estimators=250; total time=   0.3s\n",
      "[CV] END criterion=gini, max_depth=80.9, max_features=auto, min_samples_leaf=9, min_samples_split=8, n_estimators=100; total time=   0.1s\n",
      "[CV] END criterion=gini, max_depth=80.9, max_features=auto, min_samples_leaf=9, min_samples_split=8, n_estimators=100; total time=   0.1s\n",
      "[CV] END criterion=gini, max_depth=80.9, max_features=auto, min_samples_leaf=9, min_samples_split=8, n_estimators=100; total time=   0.1s\n",
      "[CV] END criterion=gini, max_depth=70, max_features=sqrt, min_samples_leaf=9, min_samples_split=5, n_estimators=250; total time=   0.3s\n",
      "[CV] END criterion=gini, max_depth=70, max_features=sqrt, min_samples_leaf=9, min_samples_split=5, n_estimators=250; total time=   0.3s\n",
      "[CV] END criterion=gini, max_depth=70, max_features=sqrt, min_samples_leaf=9, min_samples_split=5, n_estimators=250; total time=   0.3s\n",
      "[CV] END criterion=gini, max_depth=20, max_features=log2, min_samples_leaf=7, min_samples_split=10, n_estimators=400; total time=   0.6s\n",
      "[CV] END criterion=gini, max_depth=20, max_features=log2, min_samples_leaf=7, min_samples_split=10, n_estimators=400; total time=   0.6s\n",
      "[CV] END criterion=gini, max_depth=20, max_features=log2, min_samples_leaf=7, min_samples_split=10, n_estimators=400; total time=   0.6s\n",
      "[CV] END criterion=entropy, max_depth=50, max_features=log2, min_samples_leaf=7, min_samples_split=6, n_estimators=450; total time=   0.8s\n",
      "[CV] END criterion=entropy, max_depth=50, max_features=log2, min_samples_leaf=7, min_samples_split=6, n_estimators=450; total time=   0.7s\n",
      "[CV] END criterion=entropy, max_depth=50, max_features=log2, min_samples_leaf=7, min_samples_split=6, n_estimators=450; total time=   0.7s\n",
      "[CV] END criterion=entropy, max_depth=30, max_features=sqrt, min_samples_leaf=15, min_samples_split=9, n_estimators=100; total time=   0.1s\n",
      "[CV] END criterion=entropy, max_depth=30, max_features=sqrt, min_samples_leaf=15, min_samples_split=9, n_estimators=100; total time=   0.1s\n",
      "[CV] END criterion=entropy, max_depth=30, max_features=sqrt, min_samples_leaf=15, min_samples_split=9, n_estimators=100; total time=   0.1s\n",
      "[CV] END criterion=gini, max_depth=50, max_features=auto, min_samples_leaf=15, min_samples_split=7, n_estimators=300; total time=   0.5s\n",
      "[CV] END criterion=gini, max_depth=50, max_features=auto, min_samples_leaf=15, min_samples_split=7, n_estimators=300; total time=   0.5s\n",
      "[CV] END criterion=gini, max_depth=50, max_features=auto, min_samples_leaf=15, min_samples_split=7, n_estimators=300; total time=   0.4s\n",
      "[CV] END criterion=entropy, max_depth=70, max_features=log2, min_samples_leaf=1, min_samples_split=10, n_estimators=450; total time=   0.8s\n",
      "[CV] END criterion=entropy, max_depth=70, max_features=log2, min_samples_leaf=1, min_samples_split=10, n_estimators=450; total time=   0.8s\n",
      "[CV] END criterion=entropy, max_depth=70, max_features=log2, min_samples_leaf=1, min_samples_split=10, n_estimators=450; total time=   0.9s\n",
      "[CV] END criterion=gini, max_depth=70, max_features=log2, min_samples_leaf=3, min_samples_split=4, n_estimators=500; total time=   0.8s\n",
      "[CV] END criterion=gini, max_depth=70, max_features=log2, min_samples_leaf=3, min_samples_split=4, n_estimators=500; total time=   0.9s\n",
      "[CV] END criterion=gini, max_depth=70, max_features=log2, min_samples_leaf=3, min_samples_split=4, n_estimators=500; total time=   0.8s\n",
      "[CV] END criterion=entropy, max_depth=40, max_features=auto, min_samples_leaf=7, min_samples_split=5, n_estimators=150; total time=   0.2s\n",
      "[CV] END criterion=entropy, max_depth=40, max_features=auto, min_samples_leaf=7, min_samples_split=5, n_estimators=150; total time=   0.2s\n",
      "[CV] END criterion=entropy, max_depth=40, max_features=auto, min_samples_leaf=7, min_samples_split=5, n_estimators=150; total time=   0.2s\n",
      "[CV] END criterion=gini, max_depth=70, max_features=auto, min_samples_leaf=5, min_samples_split=3, n_estimators=200; total time=   0.3s\n",
      "[CV] END criterion=gini, max_depth=70, max_features=auto, min_samples_leaf=5, min_samples_split=3, n_estimators=200; total time=   0.3s\n",
      "[CV] END criterion=gini, max_depth=70, max_features=auto, min_samples_leaf=5, min_samples_split=3, n_estimators=200; total time=   0.2s\n",
      "[CV] END criterion=gini, max_depth=80.9, max_features=auto, min_samples_leaf=11, min_samples_split=4, n_estimators=500; total time=   0.8s\n",
      "[CV] END criterion=gini, max_depth=80.9, max_features=auto, min_samples_leaf=11, min_samples_split=4, n_estimators=500; total time=   0.7s\n",
      "[CV] END criterion=gini, max_depth=80.9, max_features=auto, min_samples_leaf=11, min_samples_split=4, n_estimators=500; total time=   0.8s\n",
      "[CV] END criterion=entropy, max_depth=70, max_features=log2, min_samples_leaf=9, min_samples_split=6, n_estimators=200; total time=   0.3s\n",
      "[CV] END criterion=entropy, max_depth=70, max_features=log2, min_samples_leaf=9, min_samples_split=6, n_estimators=200; total time=   0.2s\n",
      "[CV] END criterion=entropy, max_depth=70, max_features=log2, min_samples_leaf=9, min_samples_split=6, n_estimators=200; total time=   0.3s\n",
      "[CV] END criterion=entropy, max_depth=10, max_features=log2, min_samples_leaf=7, min_samples_split=10, n_estimators=500; total time=   1.0s\n",
      "[CV] END criterion=entropy, max_depth=10, max_features=log2, min_samples_leaf=7, min_samples_split=10, n_estimators=500; total time=   0.9s\n",
      "[CV] END criterion=entropy, max_depth=10, max_features=log2, min_samples_leaf=7, min_samples_split=10, n_estimators=500; total time=   0.8s\n",
      "[CV] END criterion=gini, max_depth=60, max_features=sqrt, min_samples_leaf=15, min_samples_split=5, n_estimators=250; total time=   0.3s\n",
      "[CV] END criterion=gini, max_depth=60, max_features=sqrt, min_samples_leaf=15, min_samples_split=5, n_estimators=250; total time=   0.3s\n",
      "[CV] END criterion=gini, max_depth=60, max_features=sqrt, min_samples_leaf=15, min_samples_split=5, n_estimators=250; total time=   0.3s\n",
      "[CV] END criterion=entropy, max_depth=40, max_features=sqrt, min_samples_leaf=13, min_samples_split=10, n_estimators=300; total time=   0.5s\n",
      "[CV] END criterion=entropy, max_depth=40, max_features=sqrt, min_samples_leaf=13, min_samples_split=10, n_estimators=300; total time=   0.4s\n",
      "[CV] END criterion=entropy, max_depth=40, max_features=sqrt, min_samples_leaf=13, min_samples_split=10, n_estimators=300; total time=   0.4s\n",
      "[CV] END criterion=gini, max_depth=30, max_features=sqrt, min_samples_leaf=13, min_samples_split=5, n_estimators=450; total time=   0.7s\n",
      "[CV] END criterion=gini, max_depth=30, max_features=sqrt, min_samples_leaf=13, min_samples_split=5, n_estimators=450; total time=   0.6s\n",
      "[CV] END criterion=gini, max_depth=30, max_features=sqrt, min_samples_leaf=13, min_samples_split=5, n_estimators=450; total time=   0.6s\n",
      "[CV] END criterion=entropy, max_depth=80.9, max_features=log2, min_samples_leaf=3, min_samples_split=2, n_estimators=150; total time=   0.2s\n",
      "[CV] END criterion=entropy, max_depth=80.9, max_features=log2, min_samples_leaf=3, min_samples_split=2, n_estimators=150; total time=   0.3s\n",
      "[CV] END criterion=entropy, max_depth=80.9, max_features=log2, min_samples_leaf=3, min_samples_split=2, n_estimators=150; total time=   0.2s\n",
      "[CV] END criterion=gini, max_depth=50, max_features=auto, min_samples_leaf=9, min_samples_split=3, n_estimators=150; total time=   0.2s\n",
      "[CV] END criterion=gini, max_depth=50, max_features=auto, min_samples_leaf=9, min_samples_split=3, n_estimators=150; total time=   0.2s\n",
      "[CV] END criterion=gini, max_depth=50, max_features=auto, min_samples_leaf=9, min_samples_split=3, n_estimators=150; total time=   0.2s\n",
      "[CV] END criterion=gini, max_depth=80.9, max_features=auto, min_samples_leaf=5, min_samples_split=2, n_estimators=250; total time=   0.3s\n",
      "[CV] END criterion=gini, max_depth=80.9, max_features=auto, min_samples_leaf=5, min_samples_split=2, n_estimators=250; total time=   0.4s\n",
      "[CV] END criterion=gini, max_depth=80.9, max_features=auto, min_samples_leaf=5, min_samples_split=2, n_estimators=250; total time=   0.4s\n",
      "[CV] END criterion=entropy, max_depth=60, max_features=auto, min_samples_leaf=1, min_samples_split=7, n_estimators=350; total time=   0.6s\n",
      "[CV] END criterion=entropy, max_depth=60, max_features=auto, min_samples_leaf=1, min_samples_split=7, n_estimators=350; total time=   0.6s\n",
      "[CV] END criterion=entropy, max_depth=60, max_features=auto, min_samples_leaf=1, min_samples_split=7, n_estimators=350; total time=   0.6s\n",
      "[CV] END criterion=gini, max_depth=100, max_features=log2, min_samples_leaf=13, min_samples_split=10, n_estimators=400; total time=   0.6s\n",
      "[CV] END criterion=gini, max_depth=100, max_features=log2, min_samples_leaf=13, min_samples_split=10, n_estimators=400; total time=   0.6s\n",
      "[CV] END criterion=gini, max_depth=100, max_features=log2, min_samples_leaf=13, min_samples_split=10, n_estimators=400; total time=   0.6s\n",
      "[CV] END criterion=entropy, max_depth=100, max_features=auto, min_samples_leaf=5, min_samples_split=8, n_estimators=400; total time=   0.7s\n",
      "[CV] END criterion=entropy, max_depth=100, max_features=auto, min_samples_leaf=5, min_samples_split=8, n_estimators=400; total time=   0.7s\n",
      "[CV] END criterion=entropy, max_depth=100, max_features=auto, min_samples_leaf=5, min_samples_split=8, n_estimators=400; total time=   0.6s\n",
      "[CV] END criterion=gini, max_depth=40, max_features=sqrt, min_samples_leaf=11, min_samples_split=4, n_estimators=450; total time=   0.7s\n",
      "[CV] END criterion=gini, max_depth=40, max_features=sqrt, min_samples_leaf=11, min_samples_split=4, n_estimators=450; total time=   0.6s\n",
      "[CV] END criterion=gini, max_depth=40, max_features=sqrt, min_samples_leaf=11, min_samples_split=4, n_estimators=450; total time=   0.6s\n",
      "[CV] END criterion=entropy, max_depth=50, max_features=auto, min_samples_leaf=5, min_samples_split=3, n_estimators=250; total time=   0.3s\n",
      "[CV] END criterion=entropy, max_depth=50, max_features=auto, min_samples_leaf=5, min_samples_split=3, n_estimators=250; total time=   0.4s\n",
      "[CV] END criterion=entropy, max_depth=50, max_features=auto, min_samples_leaf=5, min_samples_split=3, n_estimators=250; total time=   0.4s\n"
     ]
    }
   ],
   "source": [
    "# You can increase the value of no of iteration if u want (default=10)\n",
    "from sklearn.model_selection import RandomizedSearchCV\n",
    "random_cv = RandomizedSearchCV(estimator=rfc, param_distributions=params, n_iter=100, cv=3, verbose=2, random_state=42) \n",
    "random_cv.fit(X_train, y_train)\n",
    "pred = random_cv.predict(X_test)"
   ]
  },
  {
   "cell_type": "code",
   "execution_count": 16,
   "id": "472fa65f-3ce1-4a85-bb96-71b596dd7878",
   "metadata": {},
   "outputs": [
    {
     "name": "stdout",
     "output_type": "stream",
     "text": [
      "Accuracy score : 0.7792207792207793\n",
      "Confusion matrix :\n",
      " [[90 22]\n",
      " [12 30]]\n",
      "Classification report :\n",
      "               precision    recall  f1-score   support\n",
      "\n",
      "           0       0.88      0.80      0.84       112\n",
      "           1       0.58      0.71      0.64        42\n",
      "\n",
      "    accuracy                           0.78       154\n",
      "   macro avg       0.73      0.76      0.74       154\n",
      "weighted avg       0.80      0.78      0.79       154\n",
      "\n"
     ]
    }
   ],
   "source": [
    "print(f'Accuracy score : {accuracy_score(pred, y_test)}')\n",
    "print(f'Confusion matrix :\\n {confusion_matrix(pred, y_test)}')\n",
    "print(f'Classification report :\\n {classification_report(pred, y_test)}')"
   ]
  },
  {
   "cell_type": "code",
   "execution_count": 17,
   "id": "3c6b09a8-9a9e-4176-9433-d03cf23bedd3",
   "metadata": {},
   "outputs": [
    {
     "data": {
      "text/plain": [
       "{'n_estimators': 100,\n",
       " 'min_samples_split': 8,\n",
       " 'min_samples_leaf': 9,\n",
       " 'max_features': 'log2',\n",
       " 'max_depth': 60,\n",
       " 'criterion': 'gini'}"
      ]
     },
     "execution_count": 17,
     "metadata": {},
     "output_type": "execute_result"
    }
   ],
   "source": [
    "# To check best parameter\n",
    "random_cv.best_params_"
   ]
  },
  {
   "cell_type": "code",
   "execution_count": 18,
   "id": "5cc90971-b556-4b8d-91be-4c04a8b7ba3a",
   "metadata": {},
   "outputs": [
    {
     "data": {
      "text/plain": [
       "RandomForestClassifier(max_depth=60, max_features='log2', min_samples_leaf=9,\n",
       "                       min_samples_split=8)"
      ]
     },
     "execution_count": 18,
     "metadata": {},
     "output_type": "execute_result"
    }
   ],
   "source": [
    "# To check best estimator value\n",
    "random_cv.best_estimator_"
   ]
  },
  {
   "cell_type": "markdown",
   "id": "4e85110e-0c82-4694-9dc1-00d9691fa217",
   "metadata": {},
   "source": [
    "#### 2. GridSearchCV"
   ]
  },
  {
   "cell_type": "code",
   "execution_count": 19,
   "id": "acd400fd-1ba2-409f-a197-563c4771a8dc",
   "metadata": {},
   "outputs": [],
   "source": [
    "from sklearn.model_selection import GridSearchCV\n",
    "rfc = RandomForestClassifier()\n",
    "rfc.fit(X_train, y_train)\n",
    "pred = rfc.predict(X_test)"
   ]
  },
  {
   "cell_type": "code",
   "execution_count": 20,
   "id": "c008c165-dc15-40b6-a894-8845fa11a169",
   "metadata": {},
   "outputs": [],
   "source": [
    "param_grid={'n_estimators': [100],\n",
    " 'min_samples_split': [9,10,11,12],\n",
    " 'min_samples_leaf': [8,9,10,11],\n",
    " 'max_depth': [60],\n",
    " 'max_features': ['log2'],\n",
    " 'criterion': ['gini']}"
   ]
  },
  {
   "cell_type": "code",
   "execution_count": 21,
   "id": "352cf9ee-bf9b-46bc-89ad-f928e04d780f",
   "metadata": {},
   "outputs": [
    {
     "name": "stdout",
     "output_type": "stream",
     "text": [
      "Fitting 3 folds for each of 16 candidates, totalling 48 fits\n",
      "[CV] END criterion=gini, max_depth=60, max_features=log2, min_samples_leaf=8, min_samples_split=9, n_estimators=100; total time=   0.2s\n",
      "[CV] END criterion=gini, max_depth=60, max_features=log2, min_samples_leaf=8, min_samples_split=9, n_estimators=100; total time=   0.1s\n",
      "[CV] END criterion=gini, max_depth=60, max_features=log2, min_samples_leaf=8, min_samples_split=9, n_estimators=100; total time=   0.1s\n",
      "[CV] END criterion=gini, max_depth=60, max_features=log2, min_samples_leaf=8, min_samples_split=10, n_estimators=100; total time=   0.1s\n",
      "[CV] END criterion=gini, max_depth=60, max_features=log2, min_samples_leaf=8, min_samples_split=10, n_estimators=100; total time=   0.1s\n",
      "[CV] END criterion=gini, max_depth=60, max_features=log2, min_samples_leaf=8, min_samples_split=10, n_estimators=100; total time=   0.1s\n",
      "[CV] END criterion=gini, max_depth=60, max_features=log2, min_samples_leaf=8, min_samples_split=11, n_estimators=100; total time=   0.1s\n",
      "[CV] END criterion=gini, max_depth=60, max_features=log2, min_samples_leaf=8, min_samples_split=11, n_estimators=100; total time=   0.1s\n",
      "[CV] END criterion=gini, max_depth=60, max_features=log2, min_samples_leaf=8, min_samples_split=11, n_estimators=100; total time=   0.1s\n",
      "[CV] END criterion=gini, max_depth=60, max_features=log2, min_samples_leaf=8, min_samples_split=12, n_estimators=100; total time=   0.3s\n",
      "[CV] END criterion=gini, max_depth=60, max_features=log2, min_samples_leaf=8, min_samples_split=12, n_estimators=100; total time=   0.1s\n",
      "[CV] END criterion=gini, max_depth=60, max_features=log2, min_samples_leaf=8, min_samples_split=12, n_estimators=100; total time=   0.3s\n",
      "[CV] END criterion=gini, max_depth=60, max_features=log2, min_samples_leaf=9, min_samples_split=9, n_estimators=100; total time=   0.1s\n",
      "[CV] END criterion=gini, max_depth=60, max_features=log2, min_samples_leaf=9, min_samples_split=9, n_estimators=100; total time=   0.3s\n",
      "[CV] END criterion=gini, max_depth=60, max_features=log2, min_samples_leaf=9, min_samples_split=9, n_estimators=100; total time=   0.2s\n",
      "[CV] END criterion=gini, max_depth=60, max_features=log2, min_samples_leaf=9, min_samples_split=10, n_estimators=100; total time=   0.1s\n",
      "[CV] END criterion=gini, max_depth=60, max_features=log2, min_samples_leaf=9, min_samples_split=10, n_estimators=100; total time=   0.1s\n",
      "[CV] END criterion=gini, max_depth=60, max_features=log2, min_samples_leaf=9, min_samples_split=10, n_estimators=100; total time=   0.1s\n",
      "[CV] END criterion=gini, max_depth=60, max_features=log2, min_samples_leaf=9, min_samples_split=11, n_estimators=100; total time=   0.1s\n",
      "[CV] END criterion=gini, max_depth=60, max_features=log2, min_samples_leaf=9, min_samples_split=11, n_estimators=100; total time=   0.1s\n",
      "[CV] END criterion=gini, max_depth=60, max_features=log2, min_samples_leaf=9, min_samples_split=11, n_estimators=100; total time=   0.1s\n",
      "[CV] END criterion=gini, max_depth=60, max_features=log2, min_samples_leaf=9, min_samples_split=12, n_estimators=100; total time=   0.1s\n",
      "[CV] END criterion=gini, max_depth=60, max_features=log2, min_samples_leaf=9, min_samples_split=12, n_estimators=100; total time=   0.1s\n",
      "[CV] END criterion=gini, max_depth=60, max_features=log2, min_samples_leaf=9, min_samples_split=12, n_estimators=100; total time=   0.1s\n",
      "[CV] END criterion=gini, max_depth=60, max_features=log2, min_samples_leaf=10, min_samples_split=9, n_estimators=100; total time=   0.1s\n",
      "[CV] END criterion=gini, max_depth=60, max_features=log2, min_samples_leaf=10, min_samples_split=9, n_estimators=100; total time=   0.1s\n",
      "[CV] END criterion=gini, max_depth=60, max_features=log2, min_samples_leaf=10, min_samples_split=9, n_estimators=100; total time=   0.1s\n",
      "[CV] END criterion=gini, max_depth=60, max_features=log2, min_samples_leaf=10, min_samples_split=10, n_estimators=100; total time=   0.3s\n",
      "[CV] END criterion=gini, max_depth=60, max_features=log2, min_samples_leaf=10, min_samples_split=10, n_estimators=100; total time=   0.1s\n",
      "[CV] END criterion=gini, max_depth=60, max_features=log2, min_samples_leaf=10, min_samples_split=10, n_estimators=100; total time=   0.3s\n",
      "[CV] END criterion=gini, max_depth=60, max_features=log2, min_samples_leaf=10, min_samples_split=11, n_estimators=100; total time=   0.3s\n",
      "[CV] END criterion=gini, max_depth=60, max_features=log2, min_samples_leaf=10, min_samples_split=11, n_estimators=100; total time=   0.1s\n",
      "[CV] END criterion=gini, max_depth=60, max_features=log2, min_samples_leaf=10, min_samples_split=11, n_estimators=100; total time=   0.3s\n",
      "[CV] END criterion=gini, max_depth=60, max_features=log2, min_samples_leaf=10, min_samples_split=12, n_estimators=100; total time=   0.2s\n",
      "[CV] END criterion=gini, max_depth=60, max_features=log2, min_samples_leaf=10, min_samples_split=12, n_estimators=100; total time=   0.1s\n",
      "[CV] END criterion=gini, max_depth=60, max_features=log2, min_samples_leaf=10, min_samples_split=12, n_estimators=100; total time=   0.1s\n",
      "[CV] END criterion=gini, max_depth=60, max_features=log2, min_samples_leaf=11, min_samples_split=9, n_estimators=100; total time=   0.1s\n",
      "[CV] END criterion=gini, max_depth=60, max_features=log2, min_samples_leaf=11, min_samples_split=9, n_estimators=100; total time=   0.1s\n",
      "[CV] END criterion=gini, max_depth=60, max_features=log2, min_samples_leaf=11, min_samples_split=9, n_estimators=100; total time=   0.1s\n",
      "[CV] END criterion=gini, max_depth=60, max_features=log2, min_samples_leaf=11, min_samples_split=10, n_estimators=100; total time=   0.1s\n",
      "[CV] END criterion=gini, max_depth=60, max_features=log2, min_samples_leaf=11, min_samples_split=10, n_estimators=100; total time=   0.1s\n",
      "[CV] END criterion=gini, max_depth=60, max_features=log2, min_samples_leaf=11, min_samples_split=10, n_estimators=100; total time=   0.1s\n",
      "[CV] END criterion=gini, max_depth=60, max_features=log2, min_samples_leaf=11, min_samples_split=11, n_estimators=100; total time=   0.1s\n",
      "[CV] END criterion=gini, max_depth=60, max_features=log2, min_samples_leaf=11, min_samples_split=11, n_estimators=100; total time=   0.1s\n",
      "[CV] END criterion=gini, max_depth=60, max_features=log2, min_samples_leaf=11, min_samples_split=11, n_estimators=100; total time=   0.1s\n",
      "[CV] END criterion=gini, max_depth=60, max_features=log2, min_samples_leaf=11, min_samples_split=12, n_estimators=100; total time=   0.1s\n",
      "[CV] END criterion=gini, max_depth=60, max_features=log2, min_samples_leaf=11, min_samples_split=12, n_estimators=100; total time=   0.1s\n",
      "[CV] END criterion=gini, max_depth=60, max_features=log2, min_samples_leaf=11, min_samples_split=12, n_estimators=100; total time=   0.1s\n"
     ]
    }
   ],
   "source": [
    "grid_cv = GridSearchCV(estimator=rfc, param_grid=param_grid, cv=3, verbose=2)\n",
    "grid_cv.fit(X_train, y_train)\n",
    "pred = grid_cv.predict(X_test)"
   ]
  },
  {
   "cell_type": "code",
   "execution_count": 22,
   "id": "5ffba208-7695-4716-8642-59d9207b8ddf",
   "metadata": {},
   "outputs": [
    {
     "name": "stdout",
     "output_type": "stream",
     "text": [
      "Accuracy score : 0.7662337662337663\n",
      "Confusion matrix :\n",
      " [[89 23]\n",
      " [13 29]]\n",
      "Classification report :\n",
      "               precision    recall  f1-score   support\n",
      "\n",
      "           0       0.87      0.79      0.83       112\n",
      "           1       0.56      0.69      0.62        42\n",
      "\n",
      "    accuracy                           0.77       154\n",
      "   macro avg       0.72      0.74      0.72       154\n",
      "weighted avg       0.79      0.77      0.77       154\n",
      "\n"
     ]
    }
   ],
   "source": [
    "print(f'Accuracy score : {accuracy_score(pred, y_test)}')\n",
    "print(f'Confusion matrix :\\n {confusion_matrix(pred, y_test)}')\n",
    "print(f'Classification report :\\n {classification_report(pred, y_test)}')"
   ]
  },
  {
   "cell_type": "code",
   "execution_count": 23,
   "id": "d49403a7-c40f-412b-9bbe-e385c90a1c22",
   "metadata": {},
   "outputs": [
    {
     "data": {
      "text/plain": [
       "{'criterion': 'gini',\n",
       " 'max_depth': 60,\n",
       " 'max_features': 'log2',\n",
       " 'min_samples_leaf': 10,\n",
       " 'min_samples_split': 11,\n",
       " 'n_estimators': 100}"
      ]
     },
     "execution_count": 23,
     "metadata": {},
     "output_type": "execute_result"
    }
   ],
   "source": [
    "grid_cv.best_params_"
   ]
  },
  {
   "cell_type": "code",
   "execution_count": 24,
   "id": "9d3409cc-b2d8-4693-a67c-985041a82071",
   "metadata": {},
   "outputs": [
    {
     "data": {
      "text/plain": [
       "RandomForestClassifier(max_depth=60, max_features='log2', min_samples_leaf=10,\n",
       "                       min_samples_split=11)"
      ]
     },
     "execution_count": 24,
     "metadata": {},
     "output_type": "execute_result"
    }
   ],
   "source": [
    "grid_cv.best_estimator_"
   ]
  },
  {
   "cell_type": "markdown",
   "id": "1c0a5ea6-8e61-4eea-88e8-10d0760443e3",
   "metadata": {},
   "source": [
    "#### Bayesian Optimization\n",
    "     Install hyperopt packages in your system using [pip install hyperopt] \n",
    "Reference link:\n",
    "   https://towardsdatascience.com/hyperopt-hyperparameter-tuning-based-on-bayesian-optimization-7fa32dffaf29"
   ]
  },
  {
   "cell_type": "code",
   "execution_count": 25,
   "id": "bab6c910-21b5-4a74-9230-a5d6433b76da",
   "metadata": {},
   "outputs": [],
   "source": [
    "from hyperopt import hp,fmin,tpe,STATUS_OK,Trials\n",
    "\n",
    "# fmin: class which will host optimization process\n",
    "# tpe: the optimizer to be used (Tree of Parzen Estimator)\n",
    "# hp: for defining the search space"
   ]
  },
  {
   "cell_type": "code",
   "execution_count": 26,
   "id": "6062986a-40b2-49ed-b45c-30995cada909",
   "metadata": {},
   "outputs": [],
   "source": [
    "para = {'criterion': hp.choice('criterion', ['entropy', 'gini']), # Choice used for choice of 2 input\n",
    "        'max_depth': hp.quniform('max_depth', 10, 1200, 10),  # quniform used for selects integers\n",
    "        'max_features': hp.choice('max_features', ['auto', 'sqrt','log2', None]),\n",
    "        'min_samples_leaf': hp.uniform('min_samples_leaf', 0, 0.5),  # uniform used for selects float \n",
    "        'min_samples_split' : hp.uniform ('min_samples_split', 0, 1),\n",
    "        'n_estimators' : hp.choice('n_estimators', [100,150,200,300,500,750,850,1000])\n",
    "    }"
   ]
  },
  {
   "cell_type": "code",
   "execution_count": 27,
   "id": "0acf5b03-8661-48b7-aeba-fccb56b978b6",
   "metadata": {},
   "outputs": [],
   "source": [
    "# create a function\n",
    "def parameter(para):\n",
    "    rfc = RandomForestClassifier(criterion = para['criterion'], \n",
    "                                   max_depth = para['max_depth'],\n",
    "                                   max_features = para['max_features'],\n",
    "                                   min_samples_leaf = para['min_samples_leaf'],\n",
    "                                   min_samples_split = para['min_samples_split'],\n",
    "                                   n_estimators = para['n_estimators'], \n",
    "                                   )\n",
    "    \n",
    "    accuracy = cross_val_score(rfc, X_train, y_train, cv = 5).mean()\n",
    "\n",
    "    # We aim to maximize accuracy, therefore we return it as a negative value\n",
    "    return {'loss': -accuracy, 'status': STATUS_OK }"
   ]
  },
  {
   "cell_type": "code",
   "execution_count": 28,
   "id": "3b4b430d-87c8-4659-af66-b2366727cbdd",
   "metadata": {},
   "outputs": [
    {
     "name": "stdout",
     "output_type": "stream",
     "text": [
      "100%|█████████████████████████████████████████████| 100/100 [10:23<00:00,  6.23s/trial, best loss: -0.7703718512594963]\n"
     ]
    },
    {
     "data": {
      "text/plain": [
       "{'criterion': 0,\n",
       " 'max_depth': 1020.0,\n",
       " 'max_features': 2,\n",
       " 'min_samples_leaf': 0.005840497515923141,\n",
       " 'min_samples_split': 0.12861683969032578,\n",
       " 'n_estimators': 1}"
      ]
     },
     "execution_count": 28,
     "metadata": {},
     "output_type": "execute_result"
    }
   ],
   "source": [
    "from sklearn.model_selection import cross_val_score\n",
    "# fn: function to be optimized\n",
    "# space: search space\n",
    "# algo: optimizer algorithm\n",
    "# max_evals: number of iterations\n",
    "trials = Trials()\n",
    "best_para = fmin(fn= parameter, \n",
    "            space= para,\n",
    "            algo= tpe.suggest,\n",
    "            max_evals = 100,\n",
    "            trials= trials)\n",
    "best_para"
   ]
  },
  {
   "cell_type": "markdown",
   "id": "704299b2-74e6-4896-a95d-b67a5ccccf59",
   "metadata": {},
   "source": [
    "**This all my assigned value in dict format keys and value check with parameters**\n",
    "##### para:\n",
    "       {'criterion': hp.choice('criterion', ['entropy', 'gini']),\n",
    "        'max_depth': hp.quniform('max_depth', 1, 100, 5),\n",
    "        'max_features': hp.choice('max_features', ['auto', 'sqrt','log2', None]),\n",
    "        'min_samples_leaf': hp.uniform('min_samples_leaf', 0, 0.5),\n",
    "        'min_samples_split' : hp.uniform ('min_samples_split', 0, 1),\n",
    "        'n_estimators' : hp.choice('n_estimators', [100,150,200,250,300,350,450,500])}\n",
    "Extract this para by comparing previous best parameter"
   ]
  },
  {
   "cell_type": "code",
   "execution_count": 36,
   "id": "a33198e8-b944-4a04-b639-c6071d207baa",
   "metadata": {},
   "outputs": [],
   "source": [
    "rfc = RandomForestClassifier(n_estimators= 750, \n",
    "                             criterion='entropy',\n",
    "                             max_depth=1020, \n",
    "                             max_features='log2', \n",
    "                             min_samples_leaf=0.005840497515923141, \n",
    "                             min_samples_split=0.12861683969032578)\n",
    "rfc.fit(X_train, y_train)\n",
    "pred = rfc.predict(X_test)"
   ]
  },
  {
   "cell_type": "code",
   "execution_count": 37,
   "id": "7ac31ba6-a29e-4727-a58e-d08ee2395260",
   "metadata": {},
   "outputs": [
    {
     "name": "stdout",
     "output_type": "stream",
     "text": [
      "Accuracy score: 0.7727272727272727\n",
      "Confusion matrix: [[91 24]\n",
      " [11 28]]\n",
      "Classification report:               precision    recall  f1-score   support\n",
      "\n",
      "           0       0.89      0.79      0.84       115\n",
      "           1       0.54      0.72      0.62        39\n",
      "\n",
      "    accuracy                           0.77       154\n",
      "   macro avg       0.72      0.75      0.73       154\n",
      "weighted avg       0.80      0.77      0.78       154\n",
      "\n"
     ]
    }
   ],
   "source": [
    "print(f\"Accuracy score: {accuracy_score(pred, y_test)}\")\n",
    "print(f\"Confusion matrix: {confusion_matrix(pred, y_test)}\")\n",
    "print(f\"Classification report: {classification_report(pred, y_test)}\")"
   ]
  },
  {
   "cell_type": "code",
   "execution_count": null,
   "id": "ae1d2a2d-d4ce-455a-8db7-fe8f055e809c",
   "metadata": {},
   "outputs": [],
   "source": []
  }
 ],
 "metadata": {
  "kernelspec": {
   "display_name": "Python 3 (ipykernel)",
   "language": "python",
   "name": "python3"
  },
  "language_info": {
   "codemirror_mode": {
    "name": "ipython",
    "version": 3
   },
   "file_extension": ".py",
   "mimetype": "text/x-python",
   "name": "python",
   "nbconvert_exporter": "python",
   "pygments_lexer": "ipython3",
   "version": "3.9.7"
  }
 },
 "nbformat": 4,
 "nbformat_minor": 5
}
